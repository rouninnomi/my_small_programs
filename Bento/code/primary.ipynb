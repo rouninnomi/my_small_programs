{
 "cells": [
  {
   "cell_type": "code",
   "execution_count": 36,
   "source": [
    "import pandas as pd\n",
    "from pathlib import Path\n",
    "from datetime import date\n",
    "import calendar\n",
    "import jpholiday\n",
    "import random\n",
    "from collections import Counter"
   ],
   "outputs": [],
   "metadata": {}
  },
  {
   "cell_type": "code",
   "execution_count": 3,
   "source": [
    "code_dir = Path(\".\").resolve()\n",
    "ipt_dir = code_dir.parent / \"in\"\n",
    "otpt_dir = code_dir.parent / \"out\""
   ],
   "outputs": [],
   "metadata": {}
  },
  {
   "cell_type": "code",
   "execution_count": 42,
   "source": [
    "class Data:\n",
    "    # 注文者と盛り、候補メニューについての情報をまとめるクラス\n",
    "    def __init__(self, data_path) -> pd.DataFrame:\n",
    "        self.raw_df = pd.read_excel(data_path)\n",
    "\n",
    "    def extract_data(self):\n",
    "        data = {}\n",
    "        for person, mori in zip(self.raw_df['注文者'].dropna(), self.raw_df['盛り'].dropna()):\n",
    "            menu = list(self.raw_df['メニュー'].dropna().values)\n",
    "            random.shuffle(menu)\n",
    "            data[person] = {'mori':mori, 'kouho_menu': menu}\n",
    "        self.data = data\n",
    "\n",
    "    def dislike_menus(self):\n",
    "        # To do\n",
    "        # flaskで入力を受けて実際のリストを編集するようにしたい\n",
    "        # 自分で入力\n",
    "        # QRコード\n",
    "        hito = ''\n",
    "        iya = ''\n",
    "        if iya in self.data[hito]['kouho_menu']:\n",
    "            self.data[hito]['kouho_menu'].remove(iya)\n",
    "\n",
    "class Chumon:\n",
    "    # 実際の注文カレンダーを出力するクラス\n",
    "    def __init__(self, month, data) -> None:\n",
    "        self.month = month\n",
    "        self.data = data.data\n",
    "\n",
    "        def calc_order_days():\n",
    "            today = date.today()\n",
    "            target_month_day1 = date(today.year, month, 1)\n",
    "            if month == 1:\n",
    "                target_month_day1.year = today.year + 1\n",
    "\n",
    "            days = [date(target_month_day1.year, target_month_day1.month, day) for day in range(1, calendar.monthrange(target_month_day1.year, target_month_day1.month)[1] + 1)]\n",
    "            is_holiday = [jpholiday.is_holiday(day) for day in days]\n",
    "            self.order_days = [day for day, holiTF in zip(days, is_holiday) if (day.weekday() not in [5, 6]) and (not holiTF)]\n",
    "\n",
    "        def combine_menu_names():\n",
    "            for person in self.data.keys():\n",
    "                self.data[person]['kouho_menu'] = [' '.join([menu, self.data[person]['mori']]) for menu in self.data[person]['kouho_menu']]\n",
    "\n",
    "        calc_order_days()\n",
    "        combine_menu_names()\n",
    "\n",
    "    def make_calendar(self):\n",
    "        cal = [f'{date.year}年{date.month}月{date.day}日' for date in self.order_days]\n",
    "        \n",
    "        for person in self.data.keys():\n",
    "            kouho = self.data[person]['kouho_menu']\n",
    "            unit_num = len(kouho)\n",
    "            loops = len(cal) // unit_num\n",
    "            former_orders = kouho * loops\n",
    "            latter_orders = kouho[:len(cal) % unit_num]\n",
    "            self.data[person]['orders'] = former_orders + latter_orders\n",
    "\n",
    "        total_calendar = pd.DataFrame({'日付':cal})\n",
    "        for person in self.data.keys():\n",
    "            ser = pd.Series(self.data[person]['orders'])\n",
    "            ser.name = person\n",
    "            total_calendar = pd.concat([total_calendar, ser], axis=1)\n",
    "\n",
    "        total_calendar = total_calendar.set_index('日付')\n",
    "        self.total_calendar = total_calendar\n",
    "\n",
    "    def make_daily_order(self):\n",
    "        daily_orders = []\n",
    "        for date in self.total_calendar.index:\n",
    "            daily_orders.append(Counter(self.total_calendar.loc[date, :]))\n",
    "        self.daily_orders = daily_orders\n",
    "\n",
    "\n",
    "\n",
    "    # return それぞれの人の注文と合計\n"
   ],
   "outputs": [],
   "metadata": {}
  },
  {
   "cell_type": "code",
   "execution_count": 43,
   "source": [
    "data = Data(ipt_dir / \"注文者とメニュー.xlsx\")\n",
    "data.extract_data()\n",
    "chumon = Chumon(10, data)"
   ],
   "outputs": [],
   "metadata": {}
  },
  {
   "cell_type": "code",
   "execution_count": 44,
   "source": [
    "chumon.make_calendar()\n",
    "chumon.make_daily_order()\n",
    "chumon.daily_orders"
   ],
   "outputs": [
    {
     "output_type": "execute_result",
     "data": {
      "text/plain": [
       "[Counter({'カニコロッケ 小': 1, 'カニコロッケ 大': 1, 'ゴーヤ 普通': 2, '酢鶏 普通': 1}),\n",
       " Counter({'焼売 小': 1, 'ハンバーグ 大': 1, 'カニコロッケ 普通': 2, 'わかめ 普通': 1}),\n",
       " Counter({'メンチ 小': 1, '酢鶏 大': 1, '酢鶏 普通': 1, 'ハンバーグ 普通': 1, 'カニコロッケ 普通': 1}),\n",
       " Counter({'ゴーヤ 小': 1, 'わかめ 大': 1, '豚玉丼 普通': 2, 'ゴーヤ 普通': 1}),\n",
       " Counter({'豚玉丼 小': 1, 'ゴーヤ 大': 1, 'わかめ 普通': 2, 'ハンバーグ 普通': 1}),\n",
       " Counter({'なす炒め 小': 1, 'メンチ 大': 1, 'ハンバーグ 普通': 1, 'メンチ 普通': 1, '焼売 普通': 1}),\n",
       " Counter({'わかめ 小': 1, '豚玉丼 大': 1, '焼売 普通': 1, '豚玉丼 普通': 1, 'メンチ 普通': 1}),\n",
       " Counter({'酢鶏 小': 1, 'なす炒め 大': 1, 'メンチ 普通': 1, '焼売 普通': 1, 'なす炒め 普通': 1}),\n",
       " Counter({'ハンバーグ 小': 1, '焼売 大': 1, 'なす炒め 普通': 2, '酢鶏 普通': 1}),\n",
       " Counter({'カニコロッケ 小': 1, 'カニコロッケ 大': 1, 'ゴーヤ 普通': 2, '酢鶏 普通': 1}),\n",
       " Counter({'焼売 小': 1, 'ハンバーグ 大': 1, 'カニコロッケ 普通': 2, 'わかめ 普通': 1}),\n",
       " Counter({'メンチ 小': 1, '酢鶏 大': 1, '酢鶏 普通': 1, 'ハンバーグ 普通': 1, 'カニコロッケ 普通': 1}),\n",
       " Counter({'ゴーヤ 小': 1, 'わかめ 大': 1, '豚玉丼 普通': 2, 'ゴーヤ 普通': 1}),\n",
       " Counter({'豚玉丼 小': 1, 'ゴーヤ 大': 1, 'わかめ 普通': 2, 'ハンバーグ 普通': 1}),\n",
       " Counter({'なす炒め 小': 1, 'メンチ 大': 1, 'ハンバーグ 普通': 1, 'メンチ 普通': 1, '焼売 普通': 1}),\n",
       " Counter({'わかめ 小': 1, '豚玉丼 大': 1, '焼売 普通': 1, '豚玉丼 普通': 1, 'メンチ 普通': 1}),\n",
       " Counter({'酢鶏 小': 1, 'なす炒め 大': 1, 'メンチ 普通': 1, '焼売 普通': 1, 'なす炒め 普通': 1}),\n",
       " Counter({'ハンバーグ 小': 1, '焼売 大': 1, 'なす炒め 普通': 2, '酢鶏 普通': 1}),\n",
       " Counter({'カニコロッケ 小': 1, 'カニコロッケ 大': 1, 'ゴーヤ 普通': 2, '酢鶏 普通': 1}),\n",
       " Counter({'焼売 小': 1, 'ハンバーグ 大': 1, 'カニコロッケ 普通': 2, 'わかめ 普通': 1}),\n",
       " Counter({'メンチ 小': 1, '酢鶏 大': 1, '酢鶏 普通': 1, 'ハンバーグ 普通': 1, 'カニコロッケ 普通': 1})]"
      ]
     },
     "metadata": {},
     "execution_count": 44
    }
   ],
   "metadata": {}
  },
  {
   "cell_type": "code",
   "execution_count": null,
   "source": [],
   "outputs": [],
   "metadata": {}
  }
 ],
 "metadata": {
  "orig_nbformat": 4,
  "language_info": {
   "name": "python",
   "version": "3.8.8",
   "mimetype": "text/x-python",
   "codemirror_mode": {
    "name": "ipython",
    "version": 3
   },
   "pygments_lexer": "ipython3",
   "nbconvert_exporter": "python",
   "file_extension": ".py"
  },
  "kernelspec": {
   "name": "python3",
   "display_name": "Python 3.8.8 64-bit ('base': conda)"
  },
  "interpreter": {
   "hash": "98b0a9b7b4eaaa670588a142fd0a9b87eaafe866f1db4228be72b4211d12040f"
  }
 },
 "nbformat": 4,
 "nbformat_minor": 2
}