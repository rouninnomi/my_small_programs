{
 "metadata": {
  "language_info": {
   "codemirror_mode": {
    "name": "ipython",
    "version": 3
   },
   "file_extension": ".py",
   "mimetype": "text/x-python",
   "name": "python",
   "nbconvert_exporter": "python",
   "pygments_lexer": "ipython3",
   "version": "3.7.10"
  },
  "orig_nbformat": 4,
  "kernelspec": {
   "name": "python3",
   "display_name": "Python 3.7.10 64-bit ('base': conda)"
  },
  "interpreter": {
   "hash": "d32e5df021221c305de83bca7f01cf289feb15201160001415579a9f9ca2120b"
  }
 },
 "nbformat": 4,
 "nbformat_minor": 2,
 "cells": [
  {
   "cell_type": "code",
   "execution_count": 2,
   "metadata": {},
   "outputs": [],
   "source": [
    "import pandas as pd\n",
    "from pathlib import Path"
   ]
  },
  {
   "cell_type": "code",
   "execution_count": 16,
   "metadata": {},
   "outputs": [],
   "source": [
    "code_dir = Path.cwd()\n",
    "ipt_dir = Path(code_dir.parent, 'in')\n",
    "otpt_dir = Path(code_dir.parent, 'out')"
   ]
  },
  {
   "cell_type": "code",
   "execution_count": 21,
   "metadata": {},
   "outputs": [
    {
     "output_type": "execute_result",
     "data": {
      "text/plain": [
       "                                分類  基準価額(円)       口数  個別元本(円)  取得単価(円)  \\\n",
       "ファンド名                                                                    \n",
       "ｅＭＡＸＩＳ　ＮＹダウインデックス               累投    27993   116439    20613    20612   \n",
       "ｅＭＡＸＩＳ　Ｓｌｉｍ　先進国株式インデックス         累投    17816   331283    12377    12377   \n",
       "ｅＭＡＸＩＳ　Ｓｌｉｍ　米国株式（Ｓ＆Ｐ５００）        累投    16406   483724    14471    14472   \n",
       "ｅＭＡＸＩＳ　Ｓｌｉｍ　全世界株式（オール・カントリー）    累投    15465  1520243    13814    13814   \n",
       "グローバル・ヘルスケア＆バイオ・オープンＢ（為替ヘッジなし）  累投    63888    72808    42895    42884   \n",
       "グローバル株式インカム（毎月決算型）              累投    10821  1753147     7634     7634   \n",
       "\n",
       "                                評価損益(円)   評価額(円) 口座区分  \n",
       "ファンド名                                                  \n",
       "ｅＭＡＸＩＳ　ＮＹダウインデックス                 85944   325948   特定  \n",
       "ｅＭＡＸＩＳ　Ｓｌｉｍ　先進国株式インデックス          180185   590214   特定  \n",
       "ｅＭＡＸＩＳ　Ｓｌｉｍ　米国株式（Ｓ＆Ｐ５００）          93552   793598   特定  \n",
       "ｅＭＡＸＩＳ　Ｓｌｉｍ　全世界株式（オール・カントリー）     250992  2351056   特定  \n",
       "グローバル・ヘルスケア＆バイオ・オープンＢ（為替ヘッジなし）   152926   465156   特定  \n",
       "グローバル株式インカム（毎月決算型）               558728  1897080   特定  "
      ],
      "text/html": "<div>\n<style scoped>\n    .dataframe tbody tr th:only-of-type {\n        vertical-align: middle;\n    }\n\n    .dataframe tbody tr th {\n        vertical-align: top;\n    }\n\n    .dataframe thead th {\n        text-align: right;\n    }\n</style>\n<table border=\"1\" class=\"dataframe\">\n  <thead>\n    <tr style=\"text-align: right;\">\n      <th></th>\n      <th>分類</th>\n      <th>基準価額(円)</th>\n      <th>口数</th>\n      <th>個別元本(円)</th>\n      <th>取得単価(円)</th>\n      <th>評価損益(円)</th>\n      <th>評価額(円)</th>\n      <th>口座区分</th>\n    </tr>\n    <tr>\n      <th>ファンド名</th>\n      <th></th>\n      <th></th>\n      <th></th>\n      <th></th>\n      <th></th>\n      <th></th>\n      <th></th>\n      <th></th>\n    </tr>\n  </thead>\n  <tbody>\n    <tr>\n      <th>ｅＭＡＸＩＳ　ＮＹダウインデックス</th>\n      <td>累投</td>\n      <td>27993</td>\n      <td>116439</td>\n      <td>20613</td>\n      <td>20612</td>\n      <td>85944</td>\n      <td>325948</td>\n      <td>特定</td>\n    </tr>\n    <tr>\n      <th>ｅＭＡＸＩＳ　Ｓｌｉｍ　先進国株式インデックス</th>\n      <td>累投</td>\n      <td>17816</td>\n      <td>331283</td>\n      <td>12377</td>\n      <td>12377</td>\n      <td>180185</td>\n      <td>590214</td>\n      <td>特定</td>\n    </tr>\n    <tr>\n      <th>ｅＭＡＸＩＳ　Ｓｌｉｍ　米国株式（Ｓ＆Ｐ５００）</th>\n      <td>累投</td>\n      <td>16406</td>\n      <td>483724</td>\n      <td>14471</td>\n      <td>14472</td>\n      <td>93552</td>\n      <td>793598</td>\n      <td>特定</td>\n    </tr>\n    <tr>\n      <th>ｅＭＡＸＩＳ　Ｓｌｉｍ　全世界株式（オール・カントリー）</th>\n      <td>累投</td>\n      <td>15465</td>\n      <td>1520243</td>\n      <td>13814</td>\n      <td>13814</td>\n      <td>250992</td>\n      <td>2351056</td>\n      <td>特定</td>\n    </tr>\n    <tr>\n      <th>グローバル・ヘルスケア＆バイオ・オープンＢ（為替ヘッジなし）</th>\n      <td>累投</td>\n      <td>63888</td>\n      <td>72808</td>\n      <td>42895</td>\n      <td>42884</td>\n      <td>152926</td>\n      <td>465156</td>\n      <td>特定</td>\n    </tr>\n    <tr>\n      <th>グローバル株式インカム（毎月決算型）</th>\n      <td>累投</td>\n      <td>10821</td>\n      <td>1753147</td>\n      <td>7634</td>\n      <td>7634</td>\n      <td>558728</td>\n      <td>1897080</td>\n      <td>特定</td>\n    </tr>\n  </tbody>\n</table>\n</div>"
     },
     "metadata": {},
     "execution_count": 21
    }
   ],
   "source": [
    "df = pd.read_csv(Path(ipt_dir, 'Account.csv'), encoding='shift-jis', skiprows=1, index_col=0)\n",
    "df"
   ]
  },
  {
   "cell_type": "code",
   "execution_count": 23,
   "metadata": {},
   "outputs": [
    {
     "output_type": "execute_result",
     "data": {
      "text/plain": [
       "                                評価損益(円)   評価額(円)\n",
       "ファンド名                                           \n",
       "ｅＭＡＸＩＳ　ＮＹダウインデックス                 85944   325948\n",
       "ｅＭＡＸＩＳ　Ｓｌｉｍ　先進国株式インデックス          180185   590214\n",
       "ｅＭＡＸＩＳ　Ｓｌｉｍ　米国株式（Ｓ＆Ｐ５００）          93552   793598\n",
       "ｅＭＡＸＩＳ　Ｓｌｉｍ　全世界株式（オール・カントリー）     250992  2351056\n",
       "グローバル・ヘルスケア＆バイオ・オープンＢ（為替ヘッジなし）   152926   465156\n",
       "グローバル株式インカム（毎月決算型）               558728  1897080"
      ],
      "text/html": "<div>\n<style scoped>\n    .dataframe tbody tr th:only-of-type {\n        vertical-align: middle;\n    }\n\n    .dataframe tbody tr th {\n        vertical-align: top;\n    }\n\n    .dataframe thead th {\n        text-align: right;\n    }\n</style>\n<table border=\"1\" class=\"dataframe\">\n  <thead>\n    <tr style=\"text-align: right;\">\n      <th></th>\n      <th>評価損益(円)</th>\n      <th>評価額(円)</th>\n    </tr>\n    <tr>\n      <th>ファンド名</th>\n      <th></th>\n      <th></th>\n    </tr>\n  </thead>\n  <tbody>\n    <tr>\n      <th>ｅＭＡＸＩＳ　ＮＹダウインデックス</th>\n      <td>85944</td>\n      <td>325948</td>\n    </tr>\n    <tr>\n      <th>ｅＭＡＸＩＳ　Ｓｌｉｍ　先進国株式インデックス</th>\n      <td>180185</td>\n      <td>590214</td>\n    </tr>\n    <tr>\n      <th>ｅＭＡＸＩＳ　Ｓｌｉｍ　米国株式（Ｓ＆Ｐ５００）</th>\n      <td>93552</td>\n      <td>793598</td>\n    </tr>\n    <tr>\n      <th>ｅＭＡＸＩＳ　Ｓｌｉｍ　全世界株式（オール・カントリー）</th>\n      <td>250992</td>\n      <td>2351056</td>\n    </tr>\n    <tr>\n      <th>グローバル・ヘルスケア＆バイオ・オープンＢ（為替ヘッジなし）</th>\n      <td>152926</td>\n      <td>465156</td>\n    </tr>\n    <tr>\n      <th>グローバル株式インカム（毎月決算型）</th>\n      <td>558728</td>\n      <td>1897080</td>\n    </tr>\n  </tbody>\n</table>\n</div>"
     },
     "metadata": {},
     "execution_count": 23
    }
   ],
   "source": [
    "# 取得総額あたりの利益率を知りたい\n",
    "df2 = df.iloc[:, [5,6]]\n",
    "df2"
   ]
  },
  {
   "cell_type": "code",
   "execution_count": 26,
   "metadata": {},
   "outputs": [
    {
     "output_type": "execute_result",
     "data": {
      "text/plain": [
       "                                    利益       総額\n",
       "ファンド名                                          \n",
       "ｅＭＡＸＩＳ　ＮＹダウインデックス                85944   325948\n",
       "ｅＭＡＸＩＳ　Ｓｌｉｍ　先進国株式インデックス         180185   590214\n",
       "ｅＭＡＸＩＳ　Ｓｌｉｍ　米国株式（Ｓ＆Ｐ５００）         93552   793598\n",
       "ｅＭＡＸＩＳ　Ｓｌｉｍ　全世界株式（オール・カントリー）    250992  2351056\n",
       "グローバル・ヘルスケア＆バイオ・オープンＢ（為替ヘッジなし）  152926   465156\n",
       "グローバル株式インカム（毎月決算型）              558728  1897080"
      ],
      "text/html": "<div>\n<style scoped>\n    .dataframe tbody tr th:only-of-type {\n        vertical-align: middle;\n    }\n\n    .dataframe tbody tr th {\n        vertical-align: top;\n    }\n\n    .dataframe thead th {\n        text-align: right;\n    }\n</style>\n<table border=\"1\" class=\"dataframe\">\n  <thead>\n    <tr style=\"text-align: right;\">\n      <th></th>\n      <th>利益</th>\n      <th>総額</th>\n    </tr>\n    <tr>\n      <th>ファンド名</th>\n      <th></th>\n      <th></th>\n    </tr>\n  </thead>\n  <tbody>\n    <tr>\n      <th>ｅＭＡＸＩＳ　ＮＹダウインデックス</th>\n      <td>85944</td>\n      <td>325948</td>\n    </tr>\n    <tr>\n      <th>ｅＭＡＸＩＳ　Ｓｌｉｍ　先進国株式インデックス</th>\n      <td>180185</td>\n      <td>590214</td>\n    </tr>\n    <tr>\n      <th>ｅＭＡＸＩＳ　Ｓｌｉｍ　米国株式（Ｓ＆Ｐ５００）</th>\n      <td>93552</td>\n      <td>793598</td>\n    </tr>\n    <tr>\n      <th>ｅＭＡＸＩＳ　Ｓｌｉｍ　全世界株式（オール・カントリー）</th>\n      <td>250992</td>\n      <td>2351056</td>\n    </tr>\n    <tr>\n      <th>グローバル・ヘルスケア＆バイオ・オープンＢ（為替ヘッジなし）</th>\n      <td>152926</td>\n      <td>465156</td>\n    </tr>\n    <tr>\n      <th>グローバル株式インカム（毎月決算型）</th>\n      <td>558728</td>\n      <td>1897080</td>\n    </tr>\n  </tbody>\n</table>\n</div>"
     },
     "metadata": {},
     "execution_count": 26
    }
   ],
   "source": [
    "# 利益率を出す\n",
    "df2.columns = ['利益', '総額']\n",
    "df2"
   ]
  },
  {
   "cell_type": "code",
   "execution_count": 27,
   "metadata": {},
   "outputs": [
    {
     "output_type": "stream",
     "name": "stderr",
     "text": [
      "C:\\Users\\rouni\\Anaconda3\\lib\\site-packages\\ipykernel_launcher.py:1: SettingWithCopyWarning: \nA value is trying to be set on a copy of a slice from a DataFrame.\nTry using .loc[row_indexer,col_indexer] = value instead\n\nSee the caveats in the documentation: https://pandas.pydata.org/pandas-docs/stable/user_guide/indexing.html#returning-a-view-versus-a-copy\n  \"\"\"Entry point for launching an IPython kernel.\n"
     ]
    },
    {
     "output_type": "execute_result",
     "data": {
      "text/plain": [
       "                                    利益       総額        利益率\n",
       "ファンド名                                                     \n",
       "ｅＭＡＸＩＳ　ＮＹダウインデックス                85944   325948  26.367396\n",
       "ｅＭＡＸＩＳ　Ｓｌｉｍ　先進国株式インデックス         180185   590214  30.528757\n",
       "ｅＭＡＸＩＳ　Ｓｌｉｍ　米国株式（Ｓ＆Ｐ５００）         93552   793598  11.788336\n",
       "ｅＭＡＸＩＳ　Ｓｌｉｍ　全世界株式（オール・カントリー）    250992  2351056  10.675713\n",
       "グローバル・ヘルスケア＆バイオ・オープンＢ（為替ヘッジなし）  152926   465156  32.876282\n",
       "グローバル株式インカム（毎月決算型）              558728  1897080  29.452000"
      ],
      "text/html": "<div>\n<style scoped>\n    .dataframe tbody tr th:only-of-type {\n        vertical-align: middle;\n    }\n\n    .dataframe tbody tr th {\n        vertical-align: top;\n    }\n\n    .dataframe thead th {\n        text-align: right;\n    }\n</style>\n<table border=\"1\" class=\"dataframe\">\n  <thead>\n    <tr style=\"text-align: right;\">\n      <th></th>\n      <th>利益</th>\n      <th>総額</th>\n      <th>利益率</th>\n    </tr>\n    <tr>\n      <th>ファンド名</th>\n      <th></th>\n      <th></th>\n      <th></th>\n    </tr>\n  </thead>\n  <tbody>\n    <tr>\n      <th>ｅＭＡＸＩＳ　ＮＹダウインデックス</th>\n      <td>85944</td>\n      <td>325948</td>\n      <td>26.367396</td>\n    </tr>\n    <tr>\n      <th>ｅＭＡＸＩＳ　Ｓｌｉｍ　先進国株式インデックス</th>\n      <td>180185</td>\n      <td>590214</td>\n      <td>30.528757</td>\n    </tr>\n    <tr>\n      <th>ｅＭＡＸＩＳ　Ｓｌｉｍ　米国株式（Ｓ＆Ｐ５００）</th>\n      <td>93552</td>\n      <td>793598</td>\n      <td>11.788336</td>\n    </tr>\n    <tr>\n      <th>ｅＭＡＸＩＳ　Ｓｌｉｍ　全世界株式（オール・カントリー）</th>\n      <td>250992</td>\n      <td>2351056</td>\n      <td>10.675713</td>\n    </tr>\n    <tr>\n      <th>グローバル・ヘルスケア＆バイオ・オープンＢ（為替ヘッジなし）</th>\n      <td>152926</td>\n      <td>465156</td>\n      <td>32.876282</td>\n    </tr>\n    <tr>\n      <th>グローバル株式インカム（毎月決算型）</th>\n      <td>558728</td>\n      <td>1897080</td>\n      <td>29.452000</td>\n    </tr>\n  </tbody>\n</table>\n</div>"
     },
     "metadata": {},
     "execution_count": 27
    }
   ],
   "source": [
    "df2['利益率'] = df2['利益']/df2['総額'] * 100\n",
    "df2"
   ]
  },
  {
   "cell_type": "code",
   "execution_count": 32,
   "metadata": {},
   "outputs": [
    {
     "output_type": "execute_result",
     "data": {
      "text/plain": [
       "                                    利益       総額        利益率    投入金額割合\n",
       "ファンド名                                                               \n",
       "グローバル・ヘルスケア＆バイオ・オープンＢ（為替ヘッジなし）  152926   465156  32.876282  0.072420\n",
       "ｅＭＡＸＩＳ　Ｓｌｉｍ　先進国株式インデックス         180185   590214  30.528757  0.091890\n",
       "グローバル株式インカム（毎月決算型）              558728  1897080  29.452000  0.295355\n",
       "ｅＭＡＸＩＳ　ＮＹダウインデックス                85944   325948  26.367396  0.050747\n",
       "ｅＭＡＸＩＳ　Ｓｌｉｍ　米国株式（Ｓ＆Ｐ５００）         93552   793598  11.788336  0.123555\n",
       "ｅＭＡＸＩＳ　Ｓｌｉｍ　全世界株式（オール・カントリー）    250992  2351056  10.675713  0.366034"
      ],
      "text/html": "<div>\n<style scoped>\n    .dataframe tbody tr th:only-of-type {\n        vertical-align: middle;\n    }\n\n    .dataframe tbody tr th {\n        vertical-align: top;\n    }\n\n    .dataframe thead th {\n        text-align: right;\n    }\n</style>\n<table border=\"1\" class=\"dataframe\">\n  <thead>\n    <tr style=\"text-align: right;\">\n      <th></th>\n      <th>利益</th>\n      <th>総額</th>\n      <th>利益率</th>\n      <th>投入金額割合</th>\n    </tr>\n    <tr>\n      <th>ファンド名</th>\n      <th></th>\n      <th></th>\n      <th></th>\n      <th></th>\n    </tr>\n  </thead>\n  <tbody>\n    <tr>\n      <th>グローバル・ヘルスケア＆バイオ・オープンＢ（為替ヘッジなし）</th>\n      <td>152926</td>\n      <td>465156</td>\n      <td>32.876282</td>\n      <td>0.072420</td>\n    </tr>\n    <tr>\n      <th>ｅＭＡＸＩＳ　Ｓｌｉｍ　先進国株式インデックス</th>\n      <td>180185</td>\n      <td>590214</td>\n      <td>30.528757</td>\n      <td>0.091890</td>\n    </tr>\n    <tr>\n      <th>グローバル株式インカム（毎月決算型）</th>\n      <td>558728</td>\n      <td>1897080</td>\n      <td>29.452000</td>\n      <td>0.295355</td>\n    </tr>\n    <tr>\n      <th>ｅＭＡＸＩＳ　ＮＹダウインデックス</th>\n      <td>85944</td>\n      <td>325948</td>\n      <td>26.367396</td>\n      <td>0.050747</td>\n    </tr>\n    <tr>\n      <th>ｅＭＡＸＩＳ　Ｓｌｉｍ　米国株式（Ｓ＆Ｐ５００）</th>\n      <td>93552</td>\n      <td>793598</td>\n      <td>11.788336</td>\n      <td>0.123555</td>\n    </tr>\n    <tr>\n      <th>ｅＭＡＸＩＳ　Ｓｌｉｍ　全世界株式（オール・カントリー）</th>\n      <td>250992</td>\n      <td>2351056</td>\n      <td>10.675713</td>\n      <td>0.366034</td>\n    </tr>\n  </tbody>\n</table>\n</div>"
     },
     "metadata": {},
     "execution_count": 32
    }
   ],
   "source": [
    "df2 = df2.sort_values('利益率', ascending=False)\n",
    "df2"
   ]
  },
  {
   "cell_type": "code",
   "execution_count": 33,
   "metadata": {},
   "outputs": [
    {
     "output_type": "execute_result",
     "data": {
      "text/plain": [
       "                                    利益       総額        利益率    投入金額割合\n",
       "ファンド名                                                               \n",
       "グローバル・ヘルスケア＆バイオ・オープンＢ（為替ヘッジなし）  152926   465156  32.876282  0.072420\n",
       "ｅＭＡＸＩＳ　Ｓｌｉｍ　先進国株式インデックス         180185   590214  30.528757  0.091890\n",
       "グローバル株式インカム（毎月決算型）              558728  1897080  29.452000  0.295355\n",
       "ｅＭＡＸＩＳ　ＮＹダウインデックス                85944   325948  26.367396  0.050747\n",
       "ｅＭＡＸＩＳ　Ｓｌｉｍ　米国株式（Ｓ＆Ｐ５００）         93552   793598  11.788336  0.123555\n",
       "ｅＭＡＸＩＳ　Ｓｌｉｍ　全世界株式（オール・カントリー）    250992  2351056  10.675713  0.366034"
      ],
      "text/html": "<div>\n<style scoped>\n    .dataframe tbody tr th:only-of-type {\n        vertical-align: middle;\n    }\n\n    .dataframe tbody tr th {\n        vertical-align: top;\n    }\n\n    .dataframe thead th {\n        text-align: right;\n    }\n</style>\n<table border=\"1\" class=\"dataframe\">\n  <thead>\n    <tr style=\"text-align: right;\">\n      <th></th>\n      <th>利益</th>\n      <th>総額</th>\n      <th>利益率</th>\n      <th>投入金額割合</th>\n    </tr>\n    <tr>\n      <th>ファンド名</th>\n      <th></th>\n      <th></th>\n      <th></th>\n      <th></th>\n    </tr>\n  </thead>\n  <tbody>\n    <tr>\n      <th>グローバル・ヘルスケア＆バイオ・オープンＢ（為替ヘッジなし）</th>\n      <td>152926</td>\n      <td>465156</td>\n      <td>32.876282</td>\n      <td>0.072420</td>\n    </tr>\n    <tr>\n      <th>ｅＭＡＸＩＳ　Ｓｌｉｍ　先進国株式インデックス</th>\n      <td>180185</td>\n      <td>590214</td>\n      <td>30.528757</td>\n      <td>0.091890</td>\n    </tr>\n    <tr>\n      <th>グローバル株式インカム（毎月決算型）</th>\n      <td>558728</td>\n      <td>1897080</td>\n      <td>29.452000</td>\n      <td>0.295355</td>\n    </tr>\n    <tr>\n      <th>ｅＭＡＸＩＳ　ＮＹダウインデックス</th>\n      <td>85944</td>\n      <td>325948</td>\n      <td>26.367396</td>\n      <td>0.050747</td>\n    </tr>\n    <tr>\n      <th>ｅＭＡＸＩＳ　Ｓｌｉｍ　米国株式（Ｓ＆Ｐ５００）</th>\n      <td>93552</td>\n      <td>793598</td>\n      <td>11.788336</td>\n      <td>0.123555</td>\n    </tr>\n    <tr>\n      <th>ｅＭＡＸＩＳ　Ｓｌｉｍ　全世界株式（オール・カントリー）</th>\n      <td>250992</td>\n      <td>2351056</td>\n      <td>10.675713</td>\n      <td>0.366034</td>\n    </tr>\n  </tbody>\n</table>\n</div>"
     },
     "metadata": {},
     "execution_count": 33
    }
   ],
   "source": [
    "# 単純な利益率でいうと先進国株、グローバル株式インカムがよい\n",
    "# オールカントリーに振りすぎている嫌いはある\n",
    "# 総額の割合は？\n",
    "df2['投入金額割合'] = df2['総額']/sum(df2['総額'])\n",
    "df2"
   ]
  },
  {
   "cell_type": "code",
   "execution_count": 35,
   "metadata": {},
   "outputs": [
    {
     "output_type": "execute_result",
     "data": {
      "text/plain": [
       "                                    利益       総額        利益率    投入金額割合  \\\n",
       "ファンド名                                                                  \n",
       "ｅＭＡＸＩＳ　ＮＹダウインデックス                85944   325948  26.367396  0.050747   \n",
       "グローバル・ヘルスケア＆バイオ・オープンＢ（為替ヘッジなし）  152926   465156  32.876282  0.072420   \n",
       "ｅＭＡＸＩＳ　Ｓｌｉｍ　先進国株式インデックス         180185   590214  30.528757  0.091890   \n",
       "グローバル株式インカム（毎月決算型）              558728  1897080  29.452000  0.295355   \n",
       "ｅＭＡＸＩＳ　Ｓｌｉｍ　米国株式（Ｓ＆Ｐ５００）         93552   793598  11.788336  0.123555   \n",
       "ｅＭＡＸＩＳ　Ｓｌｉｍ　全世界株式（オール・カントリー）    250992  2351056  10.675713  0.366034   \n",
       "\n",
       "                                    利益率/投入金額  \n",
       "ファンド名                                         \n",
       "ｅＭＡＸＩＳ　ＮＹダウインデックス               51958.949213  \n",
       "グローバル・ヘルスケア＆バイオ・オープンＢ（為替ヘッジなし）  45396.828419  \n",
       "ｅＭＡＸＩＳ　Ｓｌｉｍ　先進国株式インデックス         33223.169233  \n",
       "グローバル株式インカム（毎月決算型）               9971.731659  \n",
       "ｅＭＡＸＩＳ　Ｓｌｉｍ　米国株式（Ｓ＆Ｐ５００）         9540.988781  \n",
       "ｅＭＡＸＩＳ　Ｓｌｉｍ　全世界株式（オール・カントリー）     2916.589915  "
      ],
      "text/html": "<div>\n<style scoped>\n    .dataframe tbody tr th:only-of-type {\n        vertical-align: middle;\n    }\n\n    .dataframe tbody tr th {\n        vertical-align: top;\n    }\n\n    .dataframe thead th {\n        text-align: right;\n    }\n</style>\n<table border=\"1\" class=\"dataframe\">\n  <thead>\n    <tr style=\"text-align: right;\">\n      <th></th>\n      <th>利益</th>\n      <th>総額</th>\n      <th>利益率</th>\n      <th>投入金額割合</th>\n      <th>利益率/投入金額</th>\n    </tr>\n    <tr>\n      <th>ファンド名</th>\n      <th></th>\n      <th></th>\n      <th></th>\n      <th></th>\n      <th></th>\n    </tr>\n  </thead>\n  <tbody>\n    <tr>\n      <th>ｅＭＡＸＩＳ　ＮＹダウインデックス</th>\n      <td>85944</td>\n      <td>325948</td>\n      <td>26.367396</td>\n      <td>0.050747</td>\n      <td>51958.949213</td>\n    </tr>\n    <tr>\n      <th>グローバル・ヘルスケア＆バイオ・オープンＢ（為替ヘッジなし）</th>\n      <td>152926</td>\n      <td>465156</td>\n      <td>32.876282</td>\n      <td>0.072420</td>\n      <td>45396.828419</td>\n    </tr>\n    <tr>\n      <th>ｅＭＡＸＩＳ　Ｓｌｉｍ　先進国株式インデックス</th>\n      <td>180185</td>\n      <td>590214</td>\n      <td>30.528757</td>\n      <td>0.091890</td>\n      <td>33223.169233</td>\n    </tr>\n    <tr>\n      <th>グローバル株式インカム（毎月決算型）</th>\n      <td>558728</td>\n      <td>1897080</td>\n      <td>29.452000</td>\n      <td>0.295355</td>\n      <td>9971.731659</td>\n    </tr>\n    <tr>\n      <th>ｅＭＡＸＩＳ　Ｓｌｉｍ　米国株式（Ｓ＆Ｐ５００）</th>\n      <td>93552</td>\n      <td>793598</td>\n      <td>11.788336</td>\n      <td>0.123555</td>\n      <td>9540.988781</td>\n    </tr>\n    <tr>\n      <th>ｅＭＡＸＩＳ　Ｓｌｉｍ　全世界株式（オール・カントリー）</th>\n      <td>250992</td>\n      <td>2351056</td>\n      <td>10.675713</td>\n      <td>0.366034</td>\n      <td>2916.589915</td>\n    </tr>\n  </tbody>\n</table>\n</div>"
     },
     "metadata": {},
     "execution_count": 35
    }
   ],
   "source": [
    "# 投入金額の割合に対する利益率は？\n",
    "df2['利益率/投入金額'] = df2['利益率']/df2['投入金額割合']*100\n",
    "df2.sort_values('利益率/投入金額', ascending=False)"
   ]
  },
  {
   "cell_type": "code",
   "execution_count": null,
   "metadata": {},
   "outputs": [],
   "source": []
  }
 ]
}