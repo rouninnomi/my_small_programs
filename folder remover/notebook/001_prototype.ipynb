{
 "cells": [
  {
   "cell_type": "code",
   "execution_count": 3,
   "metadata": {},
   "outputs": [
    {
     "data": {
      "text/plain": [
       "'/mnt'"
      ]
     },
     "execution_count": 3,
     "metadata": {},
     "output_type": "execute_result"
    }
   ],
   "source": [
    "from pathlib import Path\n",
    "pa = Path('/mnt/')\n",
    "str(pa)"
   ]
  },
  {
   "cell_type": "code",
   "execution_count": 14,
   "metadata": {},
   "outputs": [],
   "source": [
    "from pathlib import Path\n",
    "import shutil\n",
    "import glob\n",
    "\n",
    "def move_files(source_folder_path: Path, destination_folder_path: Path):\n",
    "    src_str = str(source_folder_path)\n",
    "    print(src_str)\n",
    "    files = glob.glob(src_str + '/*', recursive=True)\n",
    "    print(files)\n",
    "    for file in files:\n",
    "        shutil.move(file, str(destination_folder_path))"
   ]
  },
  {
   "cell_type": "code",
   "execution_count": 15,
   "metadata": {},
   "outputs": [
    {
     "name": "stdout",
     "output_type": "stream",
     "text": [
      "/project_dir/自作プログラム/folder remover/in/test\n",
      "['/project_dir/自作プログラム/folder remover/in/test/a', '/project_dir/自作プログラム/folder remover/in/test/b', '/project_dir/自作プログラム/folder remover/in/test/c']\n"
     ]
    }
   ],
   "source": [
    "src = '/project_dir/自作プログラム/folder remover/in/test'\n",
    "dst = '/project_dir/自作プログラム/folder remover/out'\n",
    "\n",
    "move_files(src, dst)"
   ]
  },
  {
   "cell_type": "code",
   "execution_count": null,
   "metadata": {},
   "outputs": [],
   "source": [
    "import pathlib\n",
    "import shutil\n",
    "import glob\n",
    "\n",
    "# 移動元フォルダのパスを指定する\n",
    "source_path = pathlib.Path(\"./source\")\n",
    "\n",
    "# 移動先フォルダのパスを指定する\n",
    "destination_path = pathlib.Path(\"./destination\")\n",
    "\n",
    "# 移動元フォルダ内のすべてのサブフォルダを取得する\n",
    "sub_folders = list(source_path.iterdir())\n",
    "\n",
    "# サブフォルダごとにファイルを移動する\n",
    "for sub_folder in sub_folders:\n",
    "    # サブフォルダ内のすべてのファイルを取得する\n",
    "    files = glob.glob(str(sub_folder / \"*\"))\n",
    "\n",
    "    # ファイルを移動する\n",
    "    for file in files:\n",
    "        shutil.move(file, destination_path)\n"
   ]
  }
 ],
 "metadata": {
  "kernelspec": {
   "display_name": "base",
   "language": "python",
   "name": "python3"
  },
  "language_info": {
   "codemirror_mode": {
    "name": "ipython",
    "version": 3
   },
   "file_extension": ".py",
   "mimetype": "text/x-python",
   "name": "python",
   "nbconvert_exporter": "python",
   "pygments_lexer": "ipython3",
   "version": "3.11.3"
  },
  "orig_nbformat": 4
 },
 "nbformat": 4,
 "nbformat_minor": 2
}
