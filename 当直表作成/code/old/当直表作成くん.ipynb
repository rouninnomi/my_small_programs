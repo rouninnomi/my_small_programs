{
 "metadata": {
  "language_info": {
   "codemirror_mode": {
    "name": "ipython",
    "version": 3
   },
   "file_extension": ".py",
   "mimetype": "text/x-python",
   "name": "python",
   "nbconvert_exporter": "python",
   "pygments_lexer": "ipython3",
   "version": "3.7.10"
  },
  "orig_nbformat": 4,
  "kernelspec": {
   "name": "python3",
   "display_name": "Python 3.7.10 64-bit ('base': conda)"
  },
  "interpreter": {
   "hash": "d32e5df021221c305de83bca7f01cf289feb15201160001415579a9f9ca2120b"
  }
 },
 "nbformat": 4,
 "nbformat_minor": 2,
 "cells": [
  {
   "cell_type": "code",
   "execution_count": 50,
   "metadata": {},
   "outputs": [],
   "source": [
    "import pandas as pd\n",
    "from pathlib import Path\n",
    "import math\n",
    "import random"
   ]
  },
  {
   "cell_type": "code",
   "execution_count": 51,
   "metadata": {},
   "outputs": [],
   "source": [
    "code_dir = Path('.')\n",
    "ipt_dir = Path(code_dir, '../in')\n",
    "otpt_dir = Path(code_dir, '../out')"
   ]
  },
  {
   "cell_type": "code",
   "execution_count": 52,
   "metadata": {},
   "outputs": [],
   "source": [
    "kibou_lists = []\n",
    "for path in ipt_dir.iterdir():\n",
    "    kibou_lists.append(pd.read_excel(path.resolve()))"
   ]
  },
  {
   "cell_type": "code",
   "execution_count": 53,
   "metadata": {},
   "outputs": [],
   "source": [
    "kibou_lists = [pddf.fillna(0) for pddf in kibou_lists]"
   ]
  },
  {
   "cell_type": "code",
   "execution_count": 54,
   "metadata": {},
   "outputs": [
    {
     "output_type": "execute_result",
     "data": {
      "text/plain": [
       "{'勝木': 10, '根岸': 0, '大津': 0}"
      ]
     },
     "metadata": {},
     "execution_count": 54
    }
   ],
   "source": [
    "# 当直回数のカウンター\n",
    "n_days = kibou_lists[0].shape[0]\n",
    "counter_dict = {'勝木':math.floor(n_days/3), \n",
    "                '根岸':0,\n",
    "                '大津':0}\n",
    "counter_dict"
   ]
  },
  {
   "cell_type": "code",
   "execution_count": 55,
   "metadata": {},
   "outputs": [
    {
     "output_type": "execute_result",
     "data": {
      "text/plain": [
       "{'勝木': 10, '根岸': 14, '大津': 0}"
      ]
     },
     "metadata": {},
     "execution_count": 55
    }
   ],
   "source": [
    "counter_dict['根岸'] = math.ceil((n_days - counter_dict['勝木'])*2/3)\n",
    "counter_dict"
   ]
  },
  {
   "cell_type": "code",
   "execution_count": 56,
   "metadata": {},
   "outputs": [
    {
     "output_type": "execute_result",
     "data": {
      "text/plain": [
       "{'勝木': 10, '根岸': 14, '大津': 7}"
      ]
     },
     "metadata": {},
     "execution_count": 56
    }
   ],
   "source": [
    "counter_dict['大津'] = n_days - counter_dict['勝木'] - counter_dict['根岸']\n",
    "counter_dict"
   ]
  },
  {
   "cell_type": "code",
   "execution_count": 57,
   "metadata": {},
   "outputs": [],
   "source": [
    "# 休みのカウンター\n",
    "yasumi_dict =  {'勝木':0,\n",
    "                '根岸':0,\n",
    "                '大津':0}"
   ]
  },
  {
   "cell_type": "code",
   "execution_count": 58,
   "metadata": {},
   "outputs": [],
   "source": [
    "result = pd.DataFrame({'日付':kibou_lists[0]['日付'], \n",
    "                       '担当':'いません'})"
   ]
  },
  {
   "cell_type": "code",
   "execution_count": 59,
   "metadata": {},
   "outputs": [
    {
     "output_type": "execute_result",
     "data": {
      "text/plain": [
       "           日付    担当\n",
       "0  2021-07-01  いません\n",
       "1  2021-07-02  いません\n",
       "2  2021-07-03  いません\n",
       "3  2021-07-04  いません\n",
       "4  2021-07-05  いません\n",
       "5  2021-07-06  いません\n",
       "6  2021-07-07    勝木\n",
       "7  2021-07-08  いません\n",
       "8  2021-07-09  いません\n",
       "9  2021-07-10    勝木\n",
       "10 2021-07-11  いません\n",
       "11 2021-07-12  いません\n",
       "12 2021-07-13    根岸\n",
       "13 2021-07-14  いません\n",
       "14 2021-07-15  いません\n",
       "15 2021-07-16  いません\n",
       "16 2021-07-17  いません\n",
       "17 2021-07-18  いません\n",
       "18 2021-07-19  いません\n",
       "19 2021-07-20  いません\n",
       "20 2021-07-21    勝木\n",
       "21 2021-07-22  いません\n",
       "22 2021-07-23    根岸\n",
       "23 2021-07-24  いません\n",
       "24 2021-07-25    勝木\n",
       "25 2021-07-26    大津\n",
       "26 2021-07-27  いません\n",
       "27 2021-07-28    根岸\n",
       "28 2021-07-29  いません\n",
       "29 2021-07-30    勝木\n",
       "30 2021-07-31  いません"
      ],
      "text/html": "<div>\n<style scoped>\n    .dataframe tbody tr th:only-of-type {\n        vertical-align: middle;\n    }\n\n    .dataframe tbody tr th {\n        vertical-align: top;\n    }\n\n    .dataframe thead th {\n        text-align: right;\n    }\n</style>\n<table border=\"1\" class=\"dataframe\">\n  <thead>\n    <tr style=\"text-align: right;\">\n      <th></th>\n      <th>日付</th>\n      <th>担当</th>\n    </tr>\n  </thead>\n  <tbody>\n    <tr>\n      <th>0</th>\n      <td>2021-07-01</td>\n      <td>いません</td>\n    </tr>\n    <tr>\n      <th>1</th>\n      <td>2021-07-02</td>\n      <td>いません</td>\n    </tr>\n    <tr>\n      <th>2</th>\n      <td>2021-07-03</td>\n      <td>いません</td>\n    </tr>\n    <tr>\n      <th>3</th>\n      <td>2021-07-04</td>\n      <td>いません</td>\n    </tr>\n    <tr>\n      <th>4</th>\n      <td>2021-07-05</td>\n      <td>いません</td>\n    </tr>\n    <tr>\n      <th>5</th>\n      <td>2021-07-06</td>\n      <td>いません</td>\n    </tr>\n    <tr>\n      <th>6</th>\n      <td>2021-07-07</td>\n      <td>勝木</td>\n    </tr>\n    <tr>\n      <th>7</th>\n      <td>2021-07-08</td>\n      <td>いません</td>\n    </tr>\n    <tr>\n      <th>8</th>\n      <td>2021-07-09</td>\n      <td>いません</td>\n    </tr>\n    <tr>\n      <th>9</th>\n      <td>2021-07-10</td>\n      <td>勝木</td>\n    </tr>\n    <tr>\n      <th>10</th>\n      <td>2021-07-11</td>\n      <td>いません</td>\n    </tr>\n    <tr>\n      <th>11</th>\n      <td>2021-07-12</td>\n      <td>いません</td>\n    </tr>\n    <tr>\n      <th>12</th>\n      <td>2021-07-13</td>\n      <td>根岸</td>\n    </tr>\n    <tr>\n      <th>13</th>\n      <td>2021-07-14</td>\n      <td>いません</td>\n    </tr>\n    <tr>\n      <th>14</th>\n      <td>2021-07-15</td>\n      <td>いません</td>\n    </tr>\n    <tr>\n      <th>15</th>\n      <td>2021-07-16</td>\n      <td>いません</td>\n    </tr>\n    <tr>\n      <th>16</th>\n      <td>2021-07-17</td>\n      <td>いません</td>\n    </tr>\n    <tr>\n      <th>17</th>\n      <td>2021-07-18</td>\n      <td>いません</td>\n    </tr>\n    <tr>\n      <th>18</th>\n      <td>2021-07-19</td>\n      <td>いません</td>\n    </tr>\n    <tr>\n      <th>19</th>\n      <td>2021-07-20</td>\n      <td>いません</td>\n    </tr>\n    <tr>\n      <th>20</th>\n      <td>2021-07-21</td>\n      <td>勝木</td>\n    </tr>\n    <tr>\n      <th>21</th>\n      <td>2021-07-22</td>\n      <td>いません</td>\n    </tr>\n    <tr>\n      <th>22</th>\n      <td>2021-07-23</td>\n      <td>根岸</td>\n    </tr>\n    <tr>\n      <th>23</th>\n      <td>2021-07-24</td>\n      <td>いません</td>\n    </tr>\n    <tr>\n      <th>24</th>\n      <td>2021-07-25</td>\n      <td>勝木</td>\n    </tr>\n    <tr>\n      <th>25</th>\n      <td>2021-07-26</td>\n      <td>大津</td>\n    </tr>\n    <tr>\n      <th>26</th>\n      <td>2021-07-27</td>\n      <td>いません</td>\n    </tr>\n    <tr>\n      <th>27</th>\n      <td>2021-07-28</td>\n      <td>根岸</td>\n    </tr>\n    <tr>\n      <th>28</th>\n      <td>2021-07-29</td>\n      <td>いません</td>\n    </tr>\n    <tr>\n      <th>29</th>\n      <td>2021-07-30</td>\n      <td>勝木</td>\n    </tr>\n    <tr>\n      <th>30</th>\n      <td>2021-07-31</td>\n      <td>いません</td>\n    </tr>\n  </tbody>\n</table>\n</div>"
     },
     "metadata": {},
     "execution_count": 59
    }
   ],
   "source": [
    "# まずは希望のある日から埋める\n",
    "for date in range(result.shape[0]):\n",
    "    # 候補の作成\n",
    "    kouho = []\n",
    "    for df in kibou_lists:\n",
    "        hito = df.loc[0, '名前']\n",
    "        if df.loc[date, '希望日'] == 1 and counter_dict[hito] > 0:\n",
    "            kouho.append(hito)\n",
    "    \n",
    "    # 候補がいれば埋める\n",
    "    if len(kouho) > 0:\n",
    "        tantou = random.choice(kouho)\n",
    "        result.loc[date,'担当'] = tantou\n",
    "        counter_dict[tantou] = counter_dict[tantou] - 1\n",
    "\n",
    "        # 休日だったらカウンター増やす\n",
    "        if (kibou_lists[0].loc[date, '土日'] == 1 or \n",
    "            kibou_lists[0].loc[date, '祝日'] == 1):\n",
    "            yasumi_dict[tantou] = yasumi_dict[tantou] + 1\n",
    "\n",
    "result"
   ]
  },
  {
   "cell_type": "code",
   "execution_count": 61,
   "metadata": {},
   "outputs": [
    {
     "output_type": "execute_result",
     "data": {
      "text/plain": [
       "           日付    担当\n",
       "0  2021-07-01  いません\n",
       "1  2021-07-02  いません\n",
       "2  2021-07-03    大津\n",
       "3  2021-07-04    根岸\n",
       "4  2021-07-05  いません\n",
       "5  2021-07-06  いません\n",
       "6  2021-07-07    勝木\n",
       "7  2021-07-08  いません\n",
       "8  2021-07-09  いません\n",
       "9  2021-07-10    勝木\n",
       "10 2021-07-11    大津\n",
       "11 2021-07-12  いません\n",
       "12 2021-07-13    根岸\n",
       "13 2021-07-14  いません\n",
       "14 2021-07-15  いません\n",
       "15 2021-07-16  いません\n",
       "16 2021-07-17    大津\n",
       "17 2021-07-18    勝木\n",
       "18 2021-07-19  いません\n",
       "19 2021-07-20  いません\n",
       "20 2021-07-21    勝木\n",
       "21 2021-07-22  いません\n",
       "22 2021-07-23    根岸\n",
       "23 2021-07-24  いません\n",
       "24 2021-07-25    勝木\n",
       "25 2021-07-26    大津\n",
       "26 2021-07-27  いません\n",
       "27 2021-07-28    根岸\n",
       "28 2021-07-29  いません\n",
       "29 2021-07-30    勝木\n",
       "30 2021-07-31    根岸"
      ],
      "text/html": "<div>\n<style scoped>\n    .dataframe tbody tr th:only-of-type {\n        vertical-align: middle;\n    }\n\n    .dataframe tbody tr th {\n        vertical-align: top;\n    }\n\n    .dataframe thead th {\n        text-align: right;\n    }\n</style>\n<table border=\"1\" class=\"dataframe\">\n  <thead>\n    <tr style=\"text-align: right;\">\n      <th></th>\n      <th>日付</th>\n      <th>担当</th>\n    </tr>\n  </thead>\n  <tbody>\n    <tr>\n      <th>0</th>\n      <td>2021-07-01</td>\n      <td>いません</td>\n    </tr>\n    <tr>\n      <th>1</th>\n      <td>2021-07-02</td>\n      <td>いません</td>\n    </tr>\n    <tr>\n      <th>2</th>\n      <td>2021-07-03</td>\n      <td>大津</td>\n    </tr>\n    <tr>\n      <th>3</th>\n      <td>2021-07-04</td>\n      <td>根岸</td>\n    </tr>\n    <tr>\n      <th>4</th>\n      <td>2021-07-05</td>\n      <td>いません</td>\n    </tr>\n    <tr>\n      <th>5</th>\n      <td>2021-07-06</td>\n      <td>いません</td>\n    </tr>\n    <tr>\n      <th>6</th>\n      <td>2021-07-07</td>\n      <td>勝木</td>\n    </tr>\n    <tr>\n      <th>7</th>\n      <td>2021-07-08</td>\n      <td>いません</td>\n    </tr>\n    <tr>\n      <th>8</th>\n      <td>2021-07-09</td>\n      <td>いません</td>\n    </tr>\n    <tr>\n      <th>9</th>\n      <td>2021-07-10</td>\n      <td>勝木</td>\n    </tr>\n    <tr>\n      <th>10</th>\n      <td>2021-07-11</td>\n      <td>大津</td>\n    </tr>\n    <tr>\n      <th>11</th>\n      <td>2021-07-12</td>\n      <td>いません</td>\n    </tr>\n    <tr>\n      <th>12</th>\n      <td>2021-07-13</td>\n      <td>根岸</td>\n    </tr>\n    <tr>\n      <th>13</th>\n      <td>2021-07-14</td>\n      <td>いません</td>\n    </tr>\n    <tr>\n      <th>14</th>\n      <td>2021-07-15</td>\n      <td>いません</td>\n    </tr>\n    <tr>\n      <th>15</th>\n      <td>2021-07-16</td>\n      <td>いません</td>\n    </tr>\n    <tr>\n      <th>16</th>\n      <td>2021-07-17</td>\n      <td>大津</td>\n    </tr>\n    <tr>\n      <th>17</th>\n      <td>2021-07-18</td>\n      <td>勝木</td>\n    </tr>\n    <tr>\n      <th>18</th>\n      <td>2021-07-19</td>\n      <td>いません</td>\n    </tr>\n    <tr>\n      <th>19</th>\n      <td>2021-07-20</td>\n      <td>いません</td>\n    </tr>\n    <tr>\n      <th>20</th>\n      <td>2021-07-21</td>\n      <td>勝木</td>\n    </tr>\n    <tr>\n      <th>21</th>\n      <td>2021-07-22</td>\n      <td>いません</td>\n    </tr>\n    <tr>\n      <th>22</th>\n      <td>2021-07-23</td>\n      <td>根岸</td>\n    </tr>\n    <tr>\n      <th>23</th>\n      <td>2021-07-24</td>\n      <td>いません</td>\n    </tr>\n    <tr>\n      <th>24</th>\n      <td>2021-07-25</td>\n      <td>勝木</td>\n    </tr>\n    <tr>\n      <th>25</th>\n      <td>2021-07-26</td>\n      <td>大津</td>\n    </tr>\n    <tr>\n      <th>26</th>\n      <td>2021-07-27</td>\n      <td>いません</td>\n    </tr>\n    <tr>\n      <th>27</th>\n      <td>2021-07-28</td>\n      <td>根岸</td>\n    </tr>\n    <tr>\n      <th>28</th>\n      <td>2021-07-29</td>\n      <td>いません</td>\n    </tr>\n    <tr>\n      <th>29</th>\n      <td>2021-07-30</td>\n      <td>勝木</td>\n    </tr>\n    <tr>\n      <th>30</th>\n      <td>2021-07-31</td>\n      <td>根岸</td>\n    </tr>\n  </tbody>\n</table>\n</div>"
     },
     "metadata": {},
     "execution_count": 61
    }
   ],
   "source": [
    "# 次に休日を埋める\n",
    "for date in range(result.shape[0]):\n",
    "    is_kyujitsu = (kibou_lists[0].loc[date, '土日'] == 1 or \n",
    "                    kibou_lists[0].loc[date, '祝日'] == 1)\n",
    "    # 埋まっていない休日を埋める\n",
    "    if (is_kyujitsu and \n",
    "        result.loc[date, '担当'] == 'いません'):\n",
    "        # 候補の作成\n",
    "        # 休日が最小の人を優先して候補にする\n",
    "        kouho = []\n",
    "        kyujitsu_min = pd.Series(yasumi_dict).min()\n",
    "\n",
    "        for df in kibou_lists:\n",
    "            hito = df.loc[0, '名前']\n",
    "            if (df.loc[date, '不希望日'] == 0 and \n",
    "                counter_dict[hito] > 0 and\n",
    "                yasumi_dict[hito] == kyujitsu_min):\n",
    "                kouho.append(hito)\n",
    "\n",
    "            if date > 0 and (result.loc[date - 1, '担当'] in kouho):\n",
    "                kouho.remove(result.loc[date - 1, '担当'])\n",
    "\n",
    "            if date != n_days -1 and (result.loc[date + 1, '担当'] in kouho):\n",
    "                kouho.remove(result.loc[date + 1, '担当'])\n",
    "        \n",
    "        # 候補がいれば埋める\n",
    "        if len(kouho) > 0:\n",
    "            tantou = random.choice(kouho)\n",
    "            result.loc[date,'担当'] = tantou\n",
    "            counter_dict[tantou] = counter_dict[tantou] - 1\n",
    "\n",
    "            yasumi_dict[tantou] = yasumi_dict[tantou] + 1\n",
    "\n",
    "result"
   ]
  },
  {
   "cell_type": "code",
   "execution_count": 62,
   "metadata": {},
   "outputs": [
    {
     "output_type": "execute_result",
     "data": {
      "text/plain": [
       "{'勝木': 3, '根岸': 3, '大津': 3}"
      ]
     },
     "metadata": {},
     "execution_count": 62
    }
   ],
   "source": [
    "yasumi_dict"
   ]
  },
  {
   "cell_type": "code",
   "execution_count": 12,
   "metadata": {},
   "outputs": [
    {
     "output_type": "execute_result",
     "data": {
      "text/plain": [
       "           日付  担当\n",
       "0  2021-07-01  根岸\n",
       "1  2021-07-02  根岸\n",
       "2  2021-07-03  大津\n",
       "3  2021-07-04  根岸\n",
       "4  2021-07-05  根岸\n",
       "5  2021-07-06  根岸\n",
       "6  2021-07-07  勝木\n",
       "7  2021-07-08  根岸\n",
       "8  2021-07-09  勝木\n",
       "9  2021-07-10  勝木\n",
       "10 2021-07-11  大津\n",
       "11 2021-07-12  根岸\n",
       "12 2021-07-13  根岸\n",
       "13 2021-07-14  大津\n",
       "14 2021-07-15  根岸\n",
       "15 2021-07-16  勝木\n",
       "16 2021-07-17  根岸\n",
       "17 2021-07-18  大津\n",
       "18 2021-07-19  大津\n",
       "19 2021-07-20  根岸\n",
       "20 2021-07-21  勝木\n",
       "21 2021-07-22  根岸\n",
       "22 2021-07-23  根岸\n",
       "23 2021-07-24  勝木\n",
       "24 2021-07-25  勝木\n",
       "25 2021-07-26  大津\n",
       "26 2021-07-27  勝木\n",
       "27 2021-07-28  根岸\n",
       "28 2021-07-29  大津\n",
       "29 2021-07-30  勝木\n",
       "30 2021-07-31  勝木"
      ],
      "text/html": "<div>\n<style scoped>\n    .dataframe tbody tr th:only-of-type {\n        vertical-align: middle;\n    }\n\n    .dataframe tbody tr th {\n        vertical-align: top;\n    }\n\n    .dataframe thead th {\n        text-align: right;\n    }\n</style>\n<table border=\"1\" class=\"dataframe\">\n  <thead>\n    <tr style=\"text-align: right;\">\n      <th></th>\n      <th>日付</th>\n      <th>担当</th>\n    </tr>\n  </thead>\n  <tbody>\n    <tr>\n      <th>0</th>\n      <td>2021-07-01</td>\n      <td>根岸</td>\n    </tr>\n    <tr>\n      <th>1</th>\n      <td>2021-07-02</td>\n      <td>根岸</td>\n    </tr>\n    <tr>\n      <th>2</th>\n      <td>2021-07-03</td>\n      <td>大津</td>\n    </tr>\n    <tr>\n      <th>3</th>\n      <td>2021-07-04</td>\n      <td>根岸</td>\n    </tr>\n    <tr>\n      <th>4</th>\n      <td>2021-07-05</td>\n      <td>根岸</td>\n    </tr>\n    <tr>\n      <th>5</th>\n      <td>2021-07-06</td>\n      <td>根岸</td>\n    </tr>\n    <tr>\n      <th>6</th>\n      <td>2021-07-07</td>\n      <td>勝木</td>\n    </tr>\n    <tr>\n      <th>7</th>\n      <td>2021-07-08</td>\n      <td>根岸</td>\n    </tr>\n    <tr>\n      <th>8</th>\n      <td>2021-07-09</td>\n      <td>勝木</td>\n    </tr>\n    <tr>\n      <th>9</th>\n      <td>2021-07-10</td>\n      <td>勝木</td>\n    </tr>\n    <tr>\n      <th>10</th>\n      <td>2021-07-11</td>\n      <td>大津</td>\n    </tr>\n    <tr>\n      <th>11</th>\n      <td>2021-07-12</td>\n      <td>根岸</td>\n    </tr>\n    <tr>\n      <th>12</th>\n      <td>2021-07-13</td>\n      <td>根岸</td>\n    </tr>\n    <tr>\n      <th>13</th>\n      <td>2021-07-14</td>\n      <td>大津</td>\n    </tr>\n    <tr>\n      <th>14</th>\n      <td>2021-07-15</td>\n      <td>根岸</td>\n    </tr>\n    <tr>\n      <th>15</th>\n      <td>2021-07-16</td>\n      <td>勝木</td>\n    </tr>\n    <tr>\n      <th>16</th>\n      <td>2021-07-17</td>\n      <td>根岸</td>\n    </tr>\n    <tr>\n      <th>17</th>\n      <td>2021-07-18</td>\n      <td>大津</td>\n    </tr>\n    <tr>\n      <th>18</th>\n      <td>2021-07-19</td>\n      <td>大津</td>\n    </tr>\n    <tr>\n      <th>19</th>\n      <td>2021-07-20</td>\n      <td>根岸</td>\n    </tr>\n    <tr>\n      <th>20</th>\n      <td>2021-07-21</td>\n      <td>勝木</td>\n    </tr>\n    <tr>\n      <th>21</th>\n      <td>2021-07-22</td>\n      <td>根岸</td>\n    </tr>\n    <tr>\n      <th>22</th>\n      <td>2021-07-23</td>\n      <td>根岸</td>\n    </tr>\n    <tr>\n      <th>23</th>\n      <td>2021-07-24</td>\n      <td>勝木</td>\n    </tr>\n    <tr>\n      <th>24</th>\n      <td>2021-07-25</td>\n      <td>勝木</td>\n    </tr>\n    <tr>\n      <th>25</th>\n      <td>2021-07-26</td>\n      <td>大津</td>\n    </tr>\n    <tr>\n      <th>26</th>\n      <td>2021-07-27</td>\n      <td>勝木</td>\n    </tr>\n    <tr>\n      <th>27</th>\n      <td>2021-07-28</td>\n      <td>根岸</td>\n    </tr>\n    <tr>\n      <th>28</th>\n      <td>2021-07-29</td>\n      <td>大津</td>\n    </tr>\n    <tr>\n      <th>29</th>\n      <td>2021-07-30</td>\n      <td>勝木</td>\n    </tr>\n    <tr>\n      <th>30</th>\n      <td>2021-07-31</td>\n      <td>勝木</td>\n    </tr>\n  </tbody>\n</table>\n</div>"
     },
     "metadata": {},
     "execution_count": 12
    }
   ],
   "source": [
    "# 残りの日を埋める\n",
    "for date in range(result.shape[0]):\n",
    "    if result.loc[date, '担当'] == 'いません':\n",
    "        # 候補の作成\n",
    "        kouho = []\n",
    "        counter_max = pd.Series(counter_dict).max()\n",
    "\n",
    "        for df in kibou_lists:\n",
    "            hito = df.loc[0, '名前']\n",
    "            if (df.loc[date, '不希望日'] == 0 and \n",
    "                counter_dict[hito] > 0 and\n",
    "                counter_dict[hito] == counter_max):\n",
    "                kouho.append(hito)\n",
    "        \n",
    "        # 候補がいれば埋める\n",
    "        if len(kouho) > 0:\n",
    "            tantou = random.choice(kouho)\n",
    "            result.loc[date,'担当'] = tantou\n",
    "            counter_dict[tantou] = counter_dict[tantou] - 1\n",
    "\n",
    "result"
   ]
  },
  {
   "cell_type": "code",
   "execution_count": 13,
   "metadata": {},
   "outputs": [
    {
     "output_type": "execute_result",
     "data": {
      "text/plain": [
       "根岸    14\n",
       "勝木    10\n",
       "大津     7\n",
       "Name: 担当, dtype: int64"
      ]
     },
     "metadata": {},
     "execution_count": 13
    }
   ],
   "source": [
    "result['担当'].value_counts()"
   ]
  },
  {
   "cell_type": "code",
   "execution_count": 14,
   "metadata": {},
   "outputs": [],
   "source": [
    "import seaborn as sns\n",
    "import matplotlib.pyplot as plt"
   ]
  },
  {
   "cell_type": "code",
   "execution_count": 15,
   "metadata": {},
   "outputs": [
    {
     "output_type": "execute_result",
     "data": {
      "text/plain": [
       "<AxesSubplot:>"
      ]
     },
     "metadata": {},
     "execution_count": 15
    },
    {
     "output_type": "stream",
     "name": "stderr",
     "text": [
      "C:\\Users\\rouni\\Anaconda3\\lib\\site-packages\\matplotlib\\textpath.py:74: RuntimeWarning: Glyph 26681 missing from current font.\n  font.set_text(s, 0.0, flags=LOAD_NO_HINTING)\nC:\\Users\\rouni\\Anaconda3\\lib\\site-packages\\matplotlib\\textpath.py:74: RuntimeWarning: Glyph 23736 missing from current font.\n  font.set_text(s, 0.0, flags=LOAD_NO_HINTING)\nC:\\Users\\rouni\\Anaconda3\\lib\\site-packages\\matplotlib\\textpath.py:74: RuntimeWarning: Glyph 21213 missing from current font.\n  font.set_text(s, 0.0, flags=LOAD_NO_HINTING)\nC:\\Users\\rouni\\Anaconda3\\lib\\site-packages\\matplotlib\\textpath.py:74: RuntimeWarning: Glyph 26408 missing from current font.\n  font.set_text(s, 0.0, flags=LOAD_NO_HINTING)\nC:\\Users\\rouni\\Anaconda3\\lib\\site-packages\\matplotlib\\textpath.py:74: RuntimeWarning: Glyph 22823 missing from current font.\n  font.set_text(s, 0.0, flags=LOAD_NO_HINTING)\nC:\\Users\\rouni\\Anaconda3\\lib\\site-packages\\matplotlib\\textpath.py:74: RuntimeWarning: Glyph 27941 missing from current font.\n  font.set_text(s, 0.0, flags=LOAD_NO_HINTING)\nC:\\Users\\rouni\\Anaconda3\\lib\\site-packages\\matplotlib\\backends\\backend_agg.py:238: RuntimeWarning: Glyph 26681 missing from current font.\n  font.set_text(s, 0.0, flags=flags)\nC:\\Users\\rouni\\Anaconda3\\lib\\site-packages\\matplotlib\\backends\\backend_agg.py:238: RuntimeWarning: Glyph 23736 missing from current font.\n  font.set_text(s, 0.0, flags=flags)\nC:\\Users\\rouni\\Anaconda3\\lib\\site-packages\\matplotlib\\backends\\backend_agg.py:238: RuntimeWarning: Glyph 21213 missing from current font.\n  font.set_text(s, 0.0, flags=flags)\nC:\\Users\\rouni\\Anaconda3\\lib\\site-packages\\matplotlib\\backends\\backend_agg.py:238: RuntimeWarning: Glyph 26408 missing from current font.\n  font.set_text(s, 0.0, flags=flags)\nC:\\Users\\rouni\\Anaconda3\\lib\\site-packages\\matplotlib\\backends\\backend_agg.py:238: RuntimeWarning: Glyph 22823 missing from current font.\n  font.set_text(s, 0.0, flags=flags)\nC:\\Users\\rouni\\Anaconda3\\lib\\site-packages\\matplotlib\\backends\\backend_agg.py:238: RuntimeWarning: Glyph 27941 missing from current font.\n  font.set_text(s, 0.0, flags=flags)\nC:\\Users\\rouni\\Anaconda3\\lib\\site-packages\\matplotlib\\backends\\backend_agg.py:201: RuntimeWarning: Glyph 26681 missing from current font.\n  font.set_text(s, 0, flags=flags)\nC:\\Users\\rouni\\Anaconda3\\lib\\site-packages\\matplotlib\\backends\\backend_agg.py:201: RuntimeWarning: Glyph 23736 missing from current font.\n  font.set_text(s, 0, flags=flags)\nC:\\Users\\rouni\\Anaconda3\\lib\\site-packages\\matplotlib\\backends\\backend_agg.py:201: RuntimeWarning: Glyph 21213 missing from current font.\n  font.set_text(s, 0, flags=flags)\nC:\\Users\\rouni\\Anaconda3\\lib\\site-packages\\matplotlib\\backends\\backend_agg.py:201: RuntimeWarning: Glyph 26408 missing from current font.\n  font.set_text(s, 0, flags=flags)\nC:\\Users\\rouni\\Anaconda3\\lib\\site-packages\\matplotlib\\backends\\backend_agg.py:201: RuntimeWarning: Glyph 22823 missing from current font.\n  font.set_text(s, 0, flags=flags)\nC:\\Users\\rouni\\Anaconda3\\lib\\site-packages\\matplotlib\\backends\\backend_agg.py:201: RuntimeWarning: Glyph 27941 missing from current font.\n  font.set_text(s, 0, flags=flags)\n"
     ]
    },
    {
     "output_type": "display_data",
     "data": {
      "text/plain": "<Figure size 432x288 with 1 Axes>",
      "image/svg+xml": "<?xml version=\"1.0\" encoding=\"utf-8\" standalone=\"no\"?>\r\n<!DOCTYPE svg PUBLIC \"-//W3C//DTD SVG 1.1//EN\"\r\n  \"http://www.w3.org/Graphics/SVG/1.1/DTD/svg11.dtd\">\r\n<!-- Created with matplotlib (https://matplotlib.org/) -->\r\n<svg height=\"248.518125pt\" version=\"1.1\" viewBox=\"0 0 368.925 248.518125\" width=\"368.925pt\" xmlns=\"http://www.w3.org/2000/svg\" xmlns:xlink=\"http://www.w3.org/1999/xlink\">\r\n <metadata>\r\n  <rdf:RDF xmlns:cc=\"http://creativecommons.org/ns#\" xmlns:dc=\"http://purl.org/dc/elements/1.1/\" xmlns:rdf=\"http://www.w3.org/1999/02/22-rdf-syntax-ns#\">\r\n   <cc:Work>\r\n    <dc:type rdf:resource=\"http://purl.org/dc/dcmitype/StillImage\"/>\r\n    <dc:date>2021-06-26T20:28:54.086670</dc:date>\r\n    <dc:format>image/svg+xml</dc:format>\r\n    <dc:creator>\r\n     <cc:Agent>\r\n      <dc:title>Matplotlib v3.3.4, https://matplotlib.org/</dc:title>\r\n     </cc:Agent>\r\n    </dc:creator>\r\n   </cc:Work>\r\n  </rdf:RDF>\r\n </metadata>\r\n <defs>\r\n  <style type=\"text/css\">*{stroke-linecap:butt;stroke-linejoin:round;}</style>\r\n </defs>\r\n <g id=\"figure_1\">\r\n  <g id=\"patch_1\">\r\n   <path d=\"M -0 248.518125 \r\nL 368.925 248.518125 \r\nL 368.925 0 \r\nL -0 0 \r\nz\r\n\" style=\"fill:none;\"/>\r\n  </g>\r\n  <g id=\"axes_1\">\r\n   <g id=\"patch_2\">\r\n    <path d=\"M 26.925 224.64 \r\nL 361.725 224.64 \r\nL 361.725 7.2 \r\nL 26.925 7.2 \r\nz\r\n\" style=\"fill:#ffffff;\"/>\r\n   </g>\r\n   <g id=\"patch_3\">\r\n    <path clip-path=\"url(#pa9076b2bd9)\" d=\"M 38.085 224.64 \r\nL 127.365 224.64 \r\nL 127.365 17.554286 \r\nL 38.085 17.554286 \r\nz\r\n\" style=\"fill:#3274a1;\"/>\r\n   </g>\r\n   <g id=\"patch_4\">\r\n    <path clip-path=\"url(#pa9076b2bd9)\" d=\"M 149.685 224.64 \r\nL 238.965 224.64 \r\nL 238.965 76.721633 \r\nL 149.685 76.721633 \r\nz\r\n\" style=\"fill:#e1812c;\"/>\r\n   </g>\r\n   <g id=\"patch_5\">\r\n    <path clip-path=\"url(#pa9076b2bd9)\" d=\"M 261.285 224.64 \r\nL 350.565 224.64 \r\nL 350.565 121.097143 \r\nL 261.285 121.097143 \r\nz\r\n\" style=\"fill:#3a923a;\"/>\r\n   </g>\r\n   <g id=\"matplotlib.axis_1\">\r\n    <g id=\"xtick_1\">\r\n     <g id=\"line2d_1\">\r\n      <defs>\r\n       <path d=\"M 0 0 \r\nL 0 3.5 \r\n\" id=\"m3a1d991978\" style=\"stroke:#000000;stroke-width:0.8;\"/>\r\n      </defs>\r\n      <g>\r\n       <use style=\"stroke:#000000;stroke-width:0.8;\" x=\"82.725\" xlink:href=\"#m3a1d991978\" y=\"224.64\"/>\r\n      </g>\r\n     </g>\r\n     <g id=\"text_1\">\r\n      <!-- 根岸 -->\r\n      <g transform=\"translate(76.723437 239.238437)scale(0.1 -0.1)\">\r\n       <defs>\r\n        <path d=\"M 4.984375 -17.671875 \r\nL 4.984375 70.515625 \r\nL 54.984375 70.515625 \r\nL 54.984375 -17.671875 \r\nz\r\nM 10.59375 -12.109375 \r\nL 49.421875 -12.109375 \r\nL 49.421875 64.890625 \r\nL 10.59375 64.890625 \r\nz\r\n\" id=\"DejaVuSans-26681\"/>\r\n        <path d=\"M 4.984375 -17.671875 \r\nL 4.984375 70.515625 \r\nL 54.984375 70.515625 \r\nL 54.984375 -17.671875 \r\nz\r\nM 10.59375 -12.109375 \r\nL 49.421875 -12.109375 \r\nL 49.421875 64.890625 \r\nL 10.59375 64.890625 \r\nz\r\n\" id=\"DejaVuSans-23736\"/>\r\n       </defs>\r\n       <use xlink:href=\"#DejaVuSans-26681\"/>\r\n       <use x=\"60.009766\" xlink:href=\"#DejaVuSans-23736\"/>\r\n      </g>\r\n     </g>\r\n    </g>\r\n    <g id=\"xtick_2\">\r\n     <g id=\"line2d_2\">\r\n      <g>\r\n       <use style=\"stroke:#000000;stroke-width:0.8;\" x=\"194.325\" xlink:href=\"#m3a1d991978\" y=\"224.64\"/>\r\n      </g>\r\n     </g>\r\n     <g id=\"text_2\">\r\n      <!-- 勝木 -->\r\n      <g transform=\"translate(188.323437 239.238437)scale(0.1 -0.1)\">\r\n       <defs>\r\n        <path d=\"M 4.984375 -17.671875 \r\nL 4.984375 70.515625 \r\nL 54.984375 70.515625 \r\nL 54.984375 -17.671875 \r\nz\r\nM 10.59375 -12.109375 \r\nL 49.421875 -12.109375 \r\nL 49.421875 64.890625 \r\nL 10.59375 64.890625 \r\nz\r\n\" id=\"DejaVuSans-21213\"/>\r\n        <path d=\"M 4.984375 -17.671875 \r\nL 4.984375 70.515625 \r\nL 54.984375 70.515625 \r\nL 54.984375 -17.671875 \r\nz\r\nM 10.59375 -12.109375 \r\nL 49.421875 -12.109375 \r\nL 49.421875 64.890625 \r\nL 10.59375 64.890625 \r\nz\r\n\" id=\"DejaVuSans-26408\"/>\r\n       </defs>\r\n       <use xlink:href=\"#DejaVuSans-21213\"/>\r\n       <use x=\"60.009766\" xlink:href=\"#DejaVuSans-26408\"/>\r\n      </g>\r\n     </g>\r\n    </g>\r\n    <g id=\"xtick_3\">\r\n     <g id=\"line2d_3\">\r\n      <g>\r\n       <use style=\"stroke:#000000;stroke-width:0.8;\" x=\"305.925\" xlink:href=\"#m3a1d991978\" y=\"224.64\"/>\r\n      </g>\r\n     </g>\r\n     <g id=\"text_3\">\r\n      <!-- 大津 -->\r\n      <g transform=\"translate(299.923437 239.238437)scale(0.1 -0.1)\">\r\n       <defs>\r\n        <path d=\"M 4.984375 -17.671875 \r\nL 4.984375 70.515625 \r\nL 54.984375 70.515625 \r\nL 54.984375 -17.671875 \r\nz\r\nM 10.59375 -12.109375 \r\nL 49.421875 -12.109375 \r\nL 49.421875 64.890625 \r\nL 10.59375 64.890625 \r\nz\r\n\" id=\"DejaVuSans-22823\"/>\r\n        <path d=\"M 4.984375 -17.671875 \r\nL 4.984375 70.515625 \r\nL 54.984375 70.515625 \r\nL 54.984375 -17.671875 \r\nz\r\nM 10.59375 -12.109375 \r\nL 49.421875 -12.109375 \r\nL 49.421875 64.890625 \r\nL 10.59375 64.890625 \r\nz\r\n\" id=\"DejaVuSans-27941\"/>\r\n       </defs>\r\n       <use xlink:href=\"#DejaVuSans-22823\"/>\r\n       <use x=\"60.009766\" xlink:href=\"#DejaVuSans-27941\"/>\r\n      </g>\r\n     </g>\r\n    </g>\r\n   </g>\r\n   <g id=\"matplotlib.axis_2\">\r\n    <g id=\"ytick_1\">\r\n     <g id=\"line2d_4\">\r\n      <defs>\r\n       <path d=\"M 0 0 \r\nL -3.5 0 \r\n\" id=\"m40b815c48d\" style=\"stroke:#000000;stroke-width:0.8;\"/>\r\n      </defs>\r\n      <g>\r\n       <use style=\"stroke:#000000;stroke-width:0.8;\" x=\"26.925\" xlink:href=\"#m40b815c48d\" y=\"224.64\"/>\r\n      </g>\r\n     </g>\r\n     <g id=\"text_4\">\r\n      <!-- 0 -->\r\n      <g transform=\"translate(13.5625 228.439219)scale(0.1 -0.1)\">\r\n       <defs>\r\n        <path d=\"M 31.78125 66.40625 \r\nQ 24.171875 66.40625 20.328125 58.90625 \r\nQ 16.5 51.421875 16.5 36.375 \r\nQ 16.5 21.390625 20.328125 13.890625 \r\nQ 24.171875 6.390625 31.78125 6.390625 \r\nQ 39.453125 6.390625 43.28125 13.890625 \r\nQ 47.125 21.390625 47.125 36.375 \r\nQ 47.125 51.421875 43.28125 58.90625 \r\nQ 39.453125 66.40625 31.78125 66.40625 \r\nz\r\nM 31.78125 74.21875 \r\nQ 44.046875 74.21875 50.515625 64.515625 \r\nQ 56.984375 54.828125 56.984375 36.375 \r\nQ 56.984375 17.96875 50.515625 8.265625 \r\nQ 44.046875 -1.421875 31.78125 -1.421875 \r\nQ 19.53125 -1.421875 13.0625 8.265625 \r\nQ 6.59375 17.96875 6.59375 36.375 \r\nQ 6.59375 54.828125 13.0625 64.515625 \r\nQ 19.53125 74.21875 31.78125 74.21875 \r\nz\r\n\" id=\"DejaVuSans-48\"/>\r\n       </defs>\r\n       <use xlink:href=\"#DejaVuSans-48\"/>\r\n      </g>\r\n     </g>\r\n    </g>\r\n    <g id=\"ytick_2\">\r\n     <g id=\"line2d_5\">\r\n      <g>\r\n       <use style=\"stroke:#000000;stroke-width:0.8;\" x=\"26.925\" xlink:href=\"#m40b815c48d\" y=\"195.056327\"/>\r\n      </g>\r\n     </g>\r\n     <g id=\"text_5\">\r\n      <!-- 2 -->\r\n      <g transform=\"translate(13.5625 198.855545)scale(0.1 -0.1)\">\r\n       <defs>\r\n        <path d=\"M 19.1875 8.296875 \r\nL 53.609375 8.296875 \r\nL 53.609375 0 \r\nL 7.328125 0 \r\nL 7.328125 8.296875 \r\nQ 12.9375 14.109375 22.625 23.890625 \r\nQ 32.328125 33.6875 34.8125 36.53125 \r\nQ 39.546875 41.84375 41.421875 45.53125 \r\nQ 43.3125 49.21875 43.3125 52.78125 \r\nQ 43.3125 58.59375 39.234375 62.25 \r\nQ 35.15625 65.921875 28.609375 65.921875 \r\nQ 23.96875 65.921875 18.8125 64.3125 \r\nQ 13.671875 62.703125 7.8125 59.421875 \r\nL 7.8125 69.390625 \r\nQ 13.765625 71.78125 18.9375 73 \r\nQ 24.125 74.21875 28.421875 74.21875 \r\nQ 39.75 74.21875 46.484375 68.546875 \r\nQ 53.21875 62.890625 53.21875 53.421875 \r\nQ 53.21875 48.921875 51.53125 44.890625 \r\nQ 49.859375 40.875 45.40625 35.40625 \r\nQ 44.1875 33.984375 37.640625 27.21875 \r\nQ 31.109375 20.453125 19.1875 8.296875 \r\nz\r\n\" id=\"DejaVuSans-50\"/>\r\n       </defs>\r\n       <use xlink:href=\"#DejaVuSans-50\"/>\r\n      </g>\r\n     </g>\r\n    </g>\r\n    <g id=\"ytick_3\">\r\n     <g id=\"line2d_6\">\r\n      <g>\r\n       <use style=\"stroke:#000000;stroke-width:0.8;\" x=\"26.925\" xlink:href=\"#m40b815c48d\" y=\"165.472653\"/>\r\n      </g>\r\n     </g>\r\n     <g id=\"text_6\">\r\n      <!-- 4 -->\r\n      <g transform=\"translate(13.5625 169.271872)scale(0.1 -0.1)\">\r\n       <defs>\r\n        <path d=\"M 37.796875 64.3125 \r\nL 12.890625 25.390625 \r\nL 37.796875 25.390625 \r\nz\r\nM 35.203125 72.90625 \r\nL 47.609375 72.90625 \r\nL 47.609375 25.390625 \r\nL 58.015625 25.390625 \r\nL 58.015625 17.1875 \r\nL 47.609375 17.1875 \r\nL 47.609375 0 \r\nL 37.796875 0 \r\nL 37.796875 17.1875 \r\nL 4.890625 17.1875 \r\nL 4.890625 26.703125 \r\nz\r\n\" id=\"DejaVuSans-52\"/>\r\n       </defs>\r\n       <use xlink:href=\"#DejaVuSans-52\"/>\r\n      </g>\r\n     </g>\r\n    </g>\r\n    <g id=\"ytick_4\">\r\n     <g id=\"line2d_7\">\r\n      <g>\r\n       <use style=\"stroke:#000000;stroke-width:0.8;\" x=\"26.925\" xlink:href=\"#m40b815c48d\" y=\"135.88898\"/>\r\n      </g>\r\n     </g>\r\n     <g id=\"text_7\">\r\n      <!-- 6 -->\r\n      <g transform=\"translate(13.5625 139.688198)scale(0.1 -0.1)\">\r\n       <defs>\r\n        <path d=\"M 33.015625 40.375 \r\nQ 26.375 40.375 22.484375 35.828125 \r\nQ 18.609375 31.296875 18.609375 23.390625 \r\nQ 18.609375 15.53125 22.484375 10.953125 \r\nQ 26.375 6.390625 33.015625 6.390625 \r\nQ 39.65625 6.390625 43.53125 10.953125 \r\nQ 47.40625 15.53125 47.40625 23.390625 \r\nQ 47.40625 31.296875 43.53125 35.828125 \r\nQ 39.65625 40.375 33.015625 40.375 \r\nz\r\nM 52.59375 71.296875 \r\nL 52.59375 62.3125 \r\nQ 48.875 64.0625 45.09375 64.984375 \r\nQ 41.3125 65.921875 37.59375 65.921875 \r\nQ 27.828125 65.921875 22.671875 59.328125 \r\nQ 17.53125 52.734375 16.796875 39.40625 \r\nQ 19.671875 43.65625 24.015625 45.921875 \r\nQ 28.375 48.1875 33.59375 48.1875 \r\nQ 44.578125 48.1875 50.953125 41.515625 \r\nQ 57.328125 34.859375 57.328125 23.390625 \r\nQ 57.328125 12.15625 50.6875 5.359375 \r\nQ 44.046875 -1.421875 33.015625 -1.421875 \r\nQ 20.359375 -1.421875 13.671875 8.265625 \r\nQ 6.984375 17.96875 6.984375 36.375 \r\nQ 6.984375 53.65625 15.1875 63.9375 \r\nQ 23.390625 74.21875 37.203125 74.21875 \r\nQ 40.921875 74.21875 44.703125 73.484375 \r\nQ 48.484375 72.75 52.59375 71.296875 \r\nz\r\n\" id=\"DejaVuSans-54\"/>\r\n       </defs>\r\n       <use xlink:href=\"#DejaVuSans-54\"/>\r\n      </g>\r\n     </g>\r\n    </g>\r\n    <g id=\"ytick_5\">\r\n     <g id=\"line2d_8\">\r\n      <g>\r\n       <use style=\"stroke:#000000;stroke-width:0.8;\" x=\"26.925\" xlink:href=\"#m40b815c48d\" y=\"106.305306\"/>\r\n      </g>\r\n     </g>\r\n     <g id=\"text_8\">\r\n      <!-- 8 -->\r\n      <g transform=\"translate(13.5625 110.104525)scale(0.1 -0.1)\">\r\n       <defs>\r\n        <path d=\"M 31.78125 34.625 \r\nQ 24.75 34.625 20.71875 30.859375 \r\nQ 16.703125 27.09375 16.703125 20.515625 \r\nQ 16.703125 13.921875 20.71875 10.15625 \r\nQ 24.75 6.390625 31.78125 6.390625 \r\nQ 38.8125 6.390625 42.859375 10.171875 \r\nQ 46.921875 13.96875 46.921875 20.515625 \r\nQ 46.921875 27.09375 42.890625 30.859375 \r\nQ 38.875 34.625 31.78125 34.625 \r\nz\r\nM 21.921875 38.8125 \r\nQ 15.578125 40.375 12.03125 44.71875 \r\nQ 8.5 49.078125 8.5 55.328125 \r\nQ 8.5 64.0625 14.71875 69.140625 \r\nQ 20.953125 74.21875 31.78125 74.21875 \r\nQ 42.671875 74.21875 48.875 69.140625 \r\nQ 55.078125 64.0625 55.078125 55.328125 \r\nQ 55.078125 49.078125 51.53125 44.71875 \r\nQ 48 40.375 41.703125 38.8125 \r\nQ 48.828125 37.15625 52.796875 32.3125 \r\nQ 56.78125 27.484375 56.78125 20.515625 \r\nQ 56.78125 9.90625 50.3125 4.234375 \r\nQ 43.84375 -1.421875 31.78125 -1.421875 \r\nQ 19.734375 -1.421875 13.25 4.234375 \r\nQ 6.78125 9.90625 6.78125 20.515625 \r\nQ 6.78125 27.484375 10.78125 32.3125 \r\nQ 14.796875 37.15625 21.921875 38.8125 \r\nz\r\nM 18.3125 54.390625 \r\nQ 18.3125 48.734375 21.84375 45.5625 \r\nQ 25.390625 42.390625 31.78125 42.390625 \r\nQ 38.140625 42.390625 41.71875 45.5625 \r\nQ 45.3125 48.734375 45.3125 54.390625 \r\nQ 45.3125 60.0625 41.71875 63.234375 \r\nQ 38.140625 66.40625 31.78125 66.40625 \r\nQ 25.390625 66.40625 21.84375 63.234375 \r\nQ 18.3125 60.0625 18.3125 54.390625 \r\nz\r\n\" id=\"DejaVuSans-56\"/>\r\n       </defs>\r\n       <use xlink:href=\"#DejaVuSans-56\"/>\r\n      </g>\r\n     </g>\r\n    </g>\r\n    <g id=\"ytick_6\">\r\n     <g id=\"line2d_9\">\r\n      <g>\r\n       <use style=\"stroke:#000000;stroke-width:0.8;\" x=\"26.925\" xlink:href=\"#m40b815c48d\" y=\"76.721633\"/>\r\n      </g>\r\n     </g>\r\n     <g id=\"text_9\">\r\n      <!-- 10 -->\r\n      <g transform=\"translate(7.2 80.520851)scale(0.1 -0.1)\">\r\n       <defs>\r\n        <path d=\"M 12.40625 8.296875 \r\nL 28.515625 8.296875 \r\nL 28.515625 63.921875 \r\nL 10.984375 60.40625 \r\nL 10.984375 69.390625 \r\nL 28.421875 72.90625 \r\nL 38.28125 72.90625 \r\nL 38.28125 8.296875 \r\nL 54.390625 8.296875 \r\nL 54.390625 0 \r\nL 12.40625 0 \r\nz\r\n\" id=\"DejaVuSans-49\"/>\r\n       </defs>\r\n       <use xlink:href=\"#DejaVuSans-49\"/>\r\n       <use x=\"63.623047\" xlink:href=\"#DejaVuSans-48\"/>\r\n      </g>\r\n     </g>\r\n    </g>\r\n    <g id=\"ytick_7\">\r\n     <g id=\"line2d_10\">\r\n      <g>\r\n       <use style=\"stroke:#000000;stroke-width:0.8;\" x=\"26.925\" xlink:href=\"#m40b815c48d\" y=\"47.137959\"/>\r\n      </g>\r\n     </g>\r\n     <g id=\"text_10\">\r\n      <!-- 12 -->\r\n      <g transform=\"translate(7.2 50.937178)scale(0.1 -0.1)\">\r\n       <use xlink:href=\"#DejaVuSans-49\"/>\r\n       <use x=\"63.623047\" xlink:href=\"#DejaVuSans-50\"/>\r\n      </g>\r\n     </g>\r\n    </g>\r\n    <g id=\"ytick_8\">\r\n     <g id=\"line2d_11\">\r\n      <g>\r\n       <use style=\"stroke:#000000;stroke-width:0.8;\" x=\"26.925\" xlink:href=\"#m40b815c48d\" y=\"17.554286\"/>\r\n      </g>\r\n     </g>\r\n     <g id=\"text_11\">\r\n      <!-- 14 -->\r\n      <g transform=\"translate(7.2 21.353504)scale(0.1 -0.1)\">\r\n       <use xlink:href=\"#DejaVuSans-49\"/>\r\n       <use x=\"63.623047\" xlink:href=\"#DejaVuSans-52\"/>\r\n      </g>\r\n     </g>\r\n    </g>\r\n   </g>\r\n   <g id=\"line2d_12\">\r\n    <path clip-path=\"url(#pa9076b2bd9)\" d=\"M 0 0 \r\n\" style=\"fill:none;stroke:#424242;stroke-linecap:square;stroke-width:2.7;\"/>\r\n   </g>\r\n   <g id=\"line2d_13\">\r\n    <path clip-path=\"url(#pa9076b2bd9)\" d=\"M 0 0 \r\n\" style=\"fill:none;stroke:#424242;stroke-linecap:square;stroke-width:2.7;\"/>\r\n   </g>\r\n   <g id=\"line2d_14\">\r\n    <path clip-path=\"url(#pa9076b2bd9)\" d=\"M 0 0 \r\n\" style=\"fill:none;stroke:#424242;stroke-linecap:square;stroke-width:2.7;\"/>\r\n   </g>\r\n   <g id=\"patch_6\">\r\n    <path d=\"M 26.925 224.64 \r\nL 26.925 7.2 \r\n\" style=\"fill:none;stroke:#000000;stroke-linecap:square;stroke-linejoin:miter;stroke-width:0.8;\"/>\r\n   </g>\r\n   <g id=\"patch_7\">\r\n    <path d=\"M 361.725 224.64 \r\nL 361.725 7.2 \r\n\" style=\"fill:none;stroke:#000000;stroke-linecap:square;stroke-linejoin:miter;stroke-width:0.8;\"/>\r\n   </g>\r\n   <g id=\"patch_8\">\r\n    <path d=\"M 26.925 224.64 \r\nL 361.725 224.64 \r\n\" style=\"fill:none;stroke:#000000;stroke-linecap:square;stroke-linejoin:miter;stroke-width:0.8;\"/>\r\n   </g>\r\n   <g id=\"patch_9\">\r\n    <path d=\"M 26.925 7.2 \r\nL 361.725 7.2 \r\n\" style=\"fill:none;stroke:#000000;stroke-linecap:square;stroke-linejoin:miter;stroke-width:0.8;\"/>\r\n   </g>\r\n  </g>\r\n </g>\r\n <defs>\r\n  <clipPath id=\"pa9076b2bd9\">\r\n   <rect height=\"217.44\" width=\"334.8\" x=\"26.925\" y=\"7.2\"/>\r\n  </clipPath>\r\n </defs>\r\n</svg>\r\n",
      "image/png": "[encoded data removed]"
     },
     "metadata": {
      "needs_background": "light"
     }
    }
   ],
   "source": [
    "s = result['担当'].value_counts()\n",
    "sns.barplot(x=s.index, y=s.values)"
   ]
  },
  {
   "cell_type": "code",
   "execution_count": 16,
   "metadata": {},
   "outputs": [
    {
     "output_type": "execute_result",
     "data": {
      "text/plain": [
       "<AxesSubplot:>"
      ]
     },
     "metadata": {},
     "execution_count": 16
    },
    {
     "output_type": "stream",
     "name": "stderr",
     "text": [
      "C:\\Users\\rouni\\Anaconda3\\lib\\site-packages\\matplotlib\\textpath.py:74: RuntimeWarning: Glyph 21213 missing from current font.\n  font.set_text(s, 0.0, flags=LOAD_NO_HINTING)\nC:\\Users\\rouni\\Anaconda3\\lib\\site-packages\\matplotlib\\textpath.py:74: RuntimeWarning: Glyph 26408 missing from current font.\n  font.set_text(s, 0.0, flags=LOAD_NO_HINTING)\nC:\\Users\\rouni\\Anaconda3\\lib\\site-packages\\matplotlib\\textpath.py:74: RuntimeWarning: Glyph 26681 missing from current font.\n  font.set_text(s, 0.0, flags=LOAD_NO_HINTING)\nC:\\Users\\rouni\\Anaconda3\\lib\\site-packages\\matplotlib\\textpath.py:74: RuntimeWarning: Glyph 23736 missing from current font.\n  font.set_text(s, 0.0, flags=LOAD_NO_HINTING)\nC:\\Users\\rouni\\Anaconda3\\lib\\site-packages\\matplotlib\\textpath.py:74: RuntimeWarning: Glyph 22823 missing from current font.\n  font.set_text(s, 0.0, flags=LOAD_NO_HINTING)\nC:\\Users\\rouni\\Anaconda3\\lib\\site-packages\\matplotlib\\textpath.py:74: RuntimeWarning: Glyph 27941 missing from current font.\n  font.set_text(s, 0.0, flags=LOAD_NO_HINTING)\nC:\\Users\\rouni\\Anaconda3\\lib\\site-packages\\matplotlib\\backends\\backend_agg.py:238: RuntimeWarning: Glyph 21213 missing from current font.\n  font.set_text(s, 0.0, flags=flags)\nC:\\Users\\rouni\\Anaconda3\\lib\\site-packages\\matplotlib\\backends\\backend_agg.py:238: RuntimeWarning: Glyph 26408 missing from current font.\n  font.set_text(s, 0.0, flags=flags)\nC:\\Users\\rouni\\Anaconda3\\lib\\site-packages\\matplotlib\\backends\\backend_agg.py:238: RuntimeWarning: Glyph 26681 missing from current font.\n  font.set_text(s, 0.0, flags=flags)\nC:\\Users\\rouni\\Anaconda3\\lib\\site-packages\\matplotlib\\backends\\backend_agg.py:238: RuntimeWarning: Glyph 23736 missing from current font.\n  font.set_text(s, 0.0, flags=flags)\nC:\\Users\\rouni\\Anaconda3\\lib\\site-packages\\matplotlib\\backends\\backend_agg.py:238: RuntimeWarning: Glyph 22823 missing from current font.\n  font.set_text(s, 0.0, flags=flags)\nC:\\Users\\rouni\\Anaconda3\\lib\\site-packages\\matplotlib\\backends\\backend_agg.py:238: RuntimeWarning: Glyph 27941 missing from current font.\n  font.set_text(s, 0.0, flags=flags)\nC:\\Users\\rouni\\Anaconda3\\lib\\site-packages\\matplotlib\\backends\\backend_agg.py:201: RuntimeWarning: Glyph 21213 missing from current font.\n  font.set_text(s, 0, flags=flags)\nC:\\Users\\rouni\\Anaconda3\\lib\\site-packages\\matplotlib\\backends\\backend_agg.py:201: RuntimeWarning: Glyph 26408 missing from current font.\n  font.set_text(s, 0, flags=flags)\nC:\\Users\\rouni\\Anaconda3\\lib\\site-packages\\matplotlib\\backends\\backend_agg.py:201: RuntimeWarning: Glyph 26681 missing from current font.\n  font.set_text(s, 0, flags=flags)\nC:\\Users\\rouni\\Anaconda3\\lib\\site-packages\\matplotlib\\backends\\backend_agg.py:201: RuntimeWarning: Glyph 23736 missing from current font.\n  font.set_text(s, 0, flags=flags)\nC:\\Users\\rouni\\Anaconda3\\lib\\site-packages\\matplotlib\\backends\\backend_agg.py:201: RuntimeWarning: Glyph 22823 missing from current font.\n  font.set_text(s, 0, flags=flags)\nC:\\Users\\rouni\\Anaconda3\\lib\\site-packages\\matplotlib\\backends\\backend_agg.py:201: RuntimeWarning: Glyph 27941 missing from current font.\n  font.set_text(s, 0, flags=flags)\n"
     ]
    },
    {
     "output_type": "display_data",
     "data": {
      "text/plain": "<Figure size 432x288 with 1 Axes>",
      "image/svg+xml": "<?xml version=\"1.0\" encoding=\"utf-8\" standalone=\"no\"?>\r\n<!DOCTYPE svg PUBLIC \"-//W3C//DTD SVG 1.1//EN\"\r\n  \"http://www.w3.org/Graphics/SVG/1.1/DTD/svg11.dtd\">\r\n<!-- Created with matplotlib (https://matplotlib.org/) -->\r\n<svg height=\"248.518125pt\" version=\"1.1\" viewBox=\"0 0 372.103125 248.518125\" width=\"372.103125pt\" xmlns=\"http://www.w3.org/2000/svg\" xmlns:xlink=\"http://www.w3.org/1999/xlink\">\r\n <metadata>\r\n  <rdf:RDF xmlns:cc=\"http://creativecommons.org/ns#\" xmlns:dc=\"http://purl.org/dc/elements/1.1/\" xmlns:rdf=\"http://www.w3.org/1999/02/22-rdf-syntax-ns#\">\r\n   <cc:Work>\r\n    <dc:type rdf:resource=\"http://purl.org/dc/dcmitype/StillImage\"/>\r\n    <dc:date>2021-06-26T20:28:54.412665</dc:date>\r\n    <dc:format>image/svg+xml</dc:format>\r\n    <dc:creator>\r\n     <cc:Agent>\r\n      <dc:title>Matplotlib v3.3.4, https://matplotlib.org/</dc:title>\r\n     </cc:Agent>\r\n    </dc:creator>\r\n   </cc:Work>\r\n  </rdf:RDF>\r\n </metadata>\r\n <defs>\r\n  <style type=\"text/css\">*{stroke-linecap:butt;stroke-linejoin:round;}</style>\r\n </defs>\r\n <g id=\"figure_1\">\r\n  <g id=\"patch_1\">\r\n   <path d=\"M 0 248.518125 \r\nL 372.103125 248.518125 \r\nL 372.103125 0 \r\nL 0 0 \r\nz\r\n\" style=\"fill:none;\"/>\r\n  </g>\r\n  <g id=\"axes_1\">\r\n   <g id=\"patch_2\">\r\n    <path d=\"M 30.103125 224.64 \r\nL 364.903125 224.64 \r\nL 364.903125 7.2 \r\nL 30.103125 7.2 \r\nz\r\n\" style=\"fill:#ffffff;\"/>\r\n   </g>\r\n   <g id=\"patch_3\">\r\n    <path clip-path=\"url(#pe35aed2207)\" d=\"M 41.263125 224.64 \r\nL 130.543125 224.64 \r\nL 130.543125 17.554286 \r\nL 41.263125 17.554286 \r\nz\r\n\" style=\"fill:#3274a1;\"/>\r\n   </g>\r\n   <g id=\"patch_4\">\r\n    <path clip-path=\"url(#pe35aed2207)\" d=\"M 152.863125 224.64 \r\nL 242.143125 224.64 \r\nL 242.143125 17.554286 \r\nL 152.863125 17.554286 \r\nz\r\n\" style=\"fill:#e1812c;\"/>\r\n   </g>\r\n   <g id=\"patch_5\">\r\n    <path clip-path=\"url(#pe35aed2207)\" d=\"M 264.463125 224.64 \r\nL 353.743125 224.64 \r\nL 353.743125 69.325714 \r\nL 264.463125 69.325714 \r\nz\r\n\" style=\"fill:#3a923a;\"/>\r\n   </g>\r\n   <g id=\"matplotlib.axis_1\">\r\n    <g id=\"xtick_1\">\r\n     <g id=\"line2d_1\">\r\n      <defs>\r\n       <path d=\"M 0 0 \r\nL 0 3.5 \r\n\" id=\"m5cdd703374\" style=\"stroke:#000000;stroke-width:0.8;\"/>\r\n      </defs>\r\n      <g>\r\n       <use style=\"stroke:#000000;stroke-width:0.8;\" x=\"85.903125\" xlink:href=\"#m5cdd703374\" y=\"224.64\"/>\r\n      </g>\r\n     </g>\r\n     <g id=\"text_1\">\r\n      <!-- 勝木 -->\r\n      <g transform=\"translate(79.901563 239.238437)scale(0.1 -0.1)\">\r\n       <defs>\r\n        <path d=\"M 4.984375 -17.671875 \r\nL 4.984375 70.515625 \r\nL 54.984375 70.515625 \r\nL 54.984375 -17.671875 \r\nz\r\nM 10.59375 -12.109375 \r\nL 49.421875 -12.109375 \r\nL 49.421875 64.890625 \r\nL 10.59375 64.890625 \r\nz\r\n\" id=\"DejaVuSans-21213\"/>\r\n        <path d=\"M 4.984375 -17.671875 \r\nL 4.984375 70.515625 \r\nL 54.984375 70.515625 \r\nL 54.984375 -17.671875 \r\nz\r\nM 10.59375 -12.109375 \r\nL 49.421875 -12.109375 \r\nL 49.421875 64.890625 \r\nL 10.59375 64.890625 \r\nz\r\n\" id=\"DejaVuSans-26408\"/>\r\n       </defs>\r\n       <use xlink:href=\"#DejaVuSans-21213\"/>\r\n       <use x=\"60.009766\" xlink:href=\"#DejaVuSans-26408\"/>\r\n      </g>\r\n     </g>\r\n    </g>\r\n    <g id=\"xtick_2\">\r\n     <g id=\"line2d_2\">\r\n      <g>\r\n       <use style=\"stroke:#000000;stroke-width:0.8;\" x=\"197.503125\" xlink:href=\"#m5cdd703374\" y=\"224.64\"/>\r\n      </g>\r\n     </g>\r\n     <g id=\"text_2\">\r\n      <!-- 根岸 -->\r\n      <g transform=\"translate(191.501563 239.238437)scale(0.1 -0.1)\">\r\n       <defs>\r\n        <path d=\"M 4.984375 -17.671875 \r\nL 4.984375 70.515625 \r\nL 54.984375 70.515625 \r\nL 54.984375 -17.671875 \r\nz\r\nM 10.59375 -12.109375 \r\nL 49.421875 -12.109375 \r\nL 49.421875 64.890625 \r\nL 10.59375 64.890625 \r\nz\r\n\" id=\"DejaVuSans-26681\"/>\r\n        <path d=\"M 4.984375 -17.671875 \r\nL 4.984375 70.515625 \r\nL 54.984375 70.515625 \r\nL 54.984375 -17.671875 \r\nz\r\nM 10.59375 -12.109375 \r\nL 49.421875 -12.109375 \r\nL 49.421875 64.890625 \r\nL 10.59375 64.890625 \r\nz\r\n\" id=\"DejaVuSans-23736\"/>\r\n       </defs>\r\n       <use xlink:href=\"#DejaVuSans-26681\"/>\r\n       <use x=\"60.009766\" xlink:href=\"#DejaVuSans-23736\"/>\r\n      </g>\r\n     </g>\r\n    </g>\r\n    <g id=\"xtick_3\">\r\n     <g id=\"line2d_3\">\r\n      <g>\r\n       <use style=\"stroke:#000000;stroke-width:0.8;\" x=\"309.103125\" xlink:href=\"#m5cdd703374\" y=\"224.64\"/>\r\n      </g>\r\n     </g>\r\n     <g id=\"text_3\">\r\n      <!-- 大津 -->\r\n      <g transform=\"translate(303.101563 239.238437)scale(0.1 -0.1)\">\r\n       <defs>\r\n        <path d=\"M 4.984375 -17.671875 \r\nL 4.984375 70.515625 \r\nL 54.984375 70.515625 \r\nL 54.984375 -17.671875 \r\nz\r\nM 10.59375 -12.109375 \r\nL 49.421875 -12.109375 \r\nL 49.421875 64.890625 \r\nL 10.59375 64.890625 \r\nz\r\n\" id=\"DejaVuSans-22823\"/>\r\n        <path d=\"M 4.984375 -17.671875 \r\nL 4.984375 70.515625 \r\nL 54.984375 70.515625 \r\nL 54.984375 -17.671875 \r\nz\r\nM 10.59375 -12.109375 \r\nL 49.421875 -12.109375 \r\nL 49.421875 64.890625 \r\nL 10.59375 64.890625 \r\nz\r\n\" id=\"DejaVuSans-27941\"/>\r\n       </defs>\r\n       <use xlink:href=\"#DejaVuSans-22823\"/>\r\n       <use x=\"60.009766\" xlink:href=\"#DejaVuSans-27941\"/>\r\n      </g>\r\n     </g>\r\n    </g>\r\n   </g>\r\n   <g id=\"matplotlib.axis_2\">\r\n    <g id=\"ytick_1\">\r\n     <g id=\"line2d_4\">\r\n      <defs>\r\n       <path d=\"M 0 0 \r\nL -3.5 0 \r\n\" id=\"m5014fc0db1\" style=\"stroke:#000000;stroke-width:0.8;\"/>\r\n      </defs>\r\n      <g>\r\n       <use style=\"stroke:#000000;stroke-width:0.8;\" x=\"30.103125\" xlink:href=\"#m5014fc0db1\" y=\"224.64\"/>\r\n      </g>\r\n     </g>\r\n     <g id=\"text_4\">\r\n      <!-- 0.0 -->\r\n      <g transform=\"translate(7.2 228.439219)scale(0.1 -0.1)\">\r\n       <defs>\r\n        <path d=\"M 31.78125 66.40625 \r\nQ 24.171875 66.40625 20.328125 58.90625 \r\nQ 16.5 51.421875 16.5 36.375 \r\nQ 16.5 21.390625 20.328125 13.890625 \r\nQ 24.171875 6.390625 31.78125 6.390625 \r\nQ 39.453125 6.390625 43.28125 13.890625 \r\nQ 47.125 21.390625 47.125 36.375 \r\nQ 47.125 51.421875 43.28125 58.90625 \r\nQ 39.453125 66.40625 31.78125 66.40625 \r\nz\r\nM 31.78125 74.21875 \r\nQ 44.046875 74.21875 50.515625 64.515625 \r\nQ 56.984375 54.828125 56.984375 36.375 \r\nQ 56.984375 17.96875 50.515625 8.265625 \r\nQ 44.046875 -1.421875 31.78125 -1.421875 \r\nQ 19.53125 -1.421875 13.0625 8.265625 \r\nQ 6.59375 17.96875 6.59375 36.375 \r\nQ 6.59375 54.828125 13.0625 64.515625 \r\nQ 19.53125 74.21875 31.78125 74.21875 \r\nz\r\n\" id=\"DejaVuSans-48\"/>\r\n        <path d=\"M 10.6875 12.40625 \r\nL 21 12.40625 \r\nL 21 0 \r\nL 10.6875 0 \r\nz\r\n\" id=\"DejaVuSans-46\"/>\r\n       </defs>\r\n       <use xlink:href=\"#DejaVuSans-48\"/>\r\n       <use x=\"63.623047\" xlink:href=\"#DejaVuSans-46\"/>\r\n       <use x=\"95.410156\" xlink:href=\"#DejaVuSans-48\"/>\r\n      </g>\r\n     </g>\r\n    </g>\r\n    <g id=\"ytick_2\">\r\n     <g id=\"line2d_5\">\r\n      <g>\r\n       <use style=\"stroke:#000000;stroke-width:0.8;\" x=\"30.103125\" xlink:href=\"#m5014fc0db1\" y=\"198.754286\"/>\r\n      </g>\r\n     </g>\r\n     <g id=\"text_5\">\r\n      <!-- 0.5 -->\r\n      <g transform=\"translate(7.2 202.553504)scale(0.1 -0.1)\">\r\n       <defs>\r\n        <path d=\"M 10.796875 72.90625 \r\nL 49.515625 72.90625 \r\nL 49.515625 64.59375 \r\nL 19.828125 64.59375 \r\nL 19.828125 46.734375 \r\nQ 21.96875 47.46875 24.109375 47.828125 \r\nQ 26.265625 48.1875 28.421875 48.1875 \r\nQ 40.625 48.1875 47.75 41.5 \r\nQ 54.890625 34.8125 54.890625 23.390625 \r\nQ 54.890625 11.625 47.5625 5.09375 \r\nQ 40.234375 -1.421875 26.90625 -1.421875 \r\nQ 22.3125 -1.421875 17.546875 -0.640625 \r\nQ 12.796875 0.140625 7.71875 1.703125 \r\nL 7.71875 11.625 \r\nQ 12.109375 9.234375 16.796875 8.0625 \r\nQ 21.484375 6.890625 26.703125 6.890625 \r\nQ 35.15625 6.890625 40.078125 11.328125 \r\nQ 45.015625 15.765625 45.015625 23.390625 \r\nQ 45.015625 31 40.078125 35.4375 \r\nQ 35.15625 39.890625 26.703125 39.890625 \r\nQ 22.75 39.890625 18.8125 39.015625 \r\nQ 14.890625 38.140625 10.796875 36.28125 \r\nz\r\n\" id=\"DejaVuSans-53\"/>\r\n       </defs>\r\n       <use xlink:href=\"#DejaVuSans-48\"/>\r\n       <use x=\"63.623047\" xlink:href=\"#DejaVuSans-46\"/>\r\n       <use x=\"95.410156\" xlink:href=\"#DejaVuSans-53\"/>\r\n      </g>\r\n     </g>\r\n    </g>\r\n    <g id=\"ytick_3\">\r\n     <g id=\"line2d_6\">\r\n      <g>\r\n       <use style=\"stroke:#000000;stroke-width:0.8;\" x=\"30.103125\" xlink:href=\"#m5014fc0db1\" y=\"172.868571\"/>\r\n      </g>\r\n     </g>\r\n     <g id=\"text_6\">\r\n      <!-- 1.0 -->\r\n      <g transform=\"translate(7.2 176.66779)scale(0.1 -0.1)\">\r\n       <defs>\r\n        <path d=\"M 12.40625 8.296875 \r\nL 28.515625 8.296875 \r\nL 28.515625 63.921875 \r\nL 10.984375 60.40625 \r\nL 10.984375 69.390625 \r\nL 28.421875 72.90625 \r\nL 38.28125 72.90625 \r\nL 38.28125 8.296875 \r\nL 54.390625 8.296875 \r\nL 54.390625 0 \r\nL 12.40625 0 \r\nz\r\n\" id=\"DejaVuSans-49\"/>\r\n       </defs>\r\n       <use xlink:href=\"#DejaVuSans-49\"/>\r\n       <use x=\"63.623047\" xlink:href=\"#DejaVuSans-46\"/>\r\n       <use x=\"95.410156\" xlink:href=\"#DejaVuSans-48\"/>\r\n      </g>\r\n     </g>\r\n    </g>\r\n    <g id=\"ytick_4\">\r\n     <g id=\"line2d_7\">\r\n      <g>\r\n       <use style=\"stroke:#000000;stroke-width:0.8;\" x=\"30.103125\" xlink:href=\"#m5014fc0db1\" y=\"146.982857\"/>\r\n      </g>\r\n     </g>\r\n     <g id=\"text_7\">\r\n      <!-- 1.5 -->\r\n      <g transform=\"translate(7.2 150.782076)scale(0.1 -0.1)\">\r\n       <use xlink:href=\"#DejaVuSans-49\"/>\r\n       <use x=\"63.623047\" xlink:href=\"#DejaVuSans-46\"/>\r\n       <use x=\"95.410156\" xlink:href=\"#DejaVuSans-53\"/>\r\n      </g>\r\n     </g>\r\n    </g>\r\n    <g id=\"ytick_5\">\r\n     <g id=\"line2d_8\">\r\n      <g>\r\n       <use style=\"stroke:#000000;stroke-width:0.8;\" x=\"30.103125\" xlink:href=\"#m5014fc0db1\" y=\"121.097143\"/>\r\n      </g>\r\n     </g>\r\n     <g id=\"text_8\">\r\n      <!-- 2.0 -->\r\n      <g transform=\"translate(7.2 124.896362)scale(0.1 -0.1)\">\r\n       <defs>\r\n        <path d=\"M 19.1875 8.296875 \r\nL 53.609375 8.296875 \r\nL 53.609375 0 \r\nL 7.328125 0 \r\nL 7.328125 8.296875 \r\nQ 12.9375 14.109375 22.625 23.890625 \r\nQ 32.328125 33.6875 34.8125 36.53125 \r\nQ 39.546875 41.84375 41.421875 45.53125 \r\nQ 43.3125 49.21875 43.3125 52.78125 \r\nQ 43.3125 58.59375 39.234375 62.25 \r\nQ 35.15625 65.921875 28.609375 65.921875 \r\nQ 23.96875 65.921875 18.8125 64.3125 \r\nQ 13.671875 62.703125 7.8125 59.421875 \r\nL 7.8125 69.390625 \r\nQ 13.765625 71.78125 18.9375 73 \r\nQ 24.125 74.21875 28.421875 74.21875 \r\nQ 39.75 74.21875 46.484375 68.546875 \r\nQ 53.21875 62.890625 53.21875 53.421875 \r\nQ 53.21875 48.921875 51.53125 44.890625 \r\nQ 49.859375 40.875 45.40625 35.40625 \r\nQ 44.1875 33.984375 37.640625 27.21875 \r\nQ 31.109375 20.453125 19.1875 8.296875 \r\nz\r\n\" id=\"DejaVuSans-50\"/>\r\n       </defs>\r\n       <use xlink:href=\"#DejaVuSans-50\"/>\r\n       <use x=\"63.623047\" xlink:href=\"#DejaVuSans-46\"/>\r\n       <use x=\"95.410156\" xlink:href=\"#DejaVuSans-48\"/>\r\n      </g>\r\n     </g>\r\n    </g>\r\n    <g id=\"ytick_6\">\r\n     <g id=\"line2d_9\">\r\n      <g>\r\n       <use style=\"stroke:#000000;stroke-width:0.8;\" x=\"30.103125\" xlink:href=\"#m5014fc0db1\" y=\"95.211429\"/>\r\n      </g>\r\n     </g>\r\n     <g id=\"text_9\">\r\n      <!-- 2.5 -->\r\n      <g transform=\"translate(7.2 99.010647)scale(0.1 -0.1)\">\r\n       <use xlink:href=\"#DejaVuSans-50\"/>\r\n       <use x=\"63.623047\" xlink:href=\"#DejaVuSans-46\"/>\r\n       <use x=\"95.410156\" xlink:href=\"#DejaVuSans-53\"/>\r\n      </g>\r\n     </g>\r\n    </g>\r\n    <g id=\"ytick_7\">\r\n     <g id=\"line2d_10\">\r\n      <g>\r\n       <use style=\"stroke:#000000;stroke-width:0.8;\" x=\"30.103125\" xlink:href=\"#m5014fc0db1\" y=\"69.325714\"/>\r\n      </g>\r\n     </g>\r\n     <g id=\"text_10\">\r\n      <!-- 3.0 -->\r\n      <g transform=\"translate(7.2 73.124933)scale(0.1 -0.1)\">\r\n       <defs>\r\n        <path d=\"M 40.578125 39.3125 \r\nQ 47.65625 37.796875 51.625 33 \r\nQ 55.609375 28.21875 55.609375 21.1875 \r\nQ 55.609375 10.40625 48.1875 4.484375 \r\nQ 40.765625 -1.421875 27.09375 -1.421875 \r\nQ 22.515625 -1.421875 17.65625 -0.515625 \r\nQ 12.796875 0.390625 7.625 2.203125 \r\nL 7.625 11.71875 \r\nQ 11.71875 9.328125 16.59375 8.109375 \r\nQ 21.484375 6.890625 26.8125 6.890625 \r\nQ 36.078125 6.890625 40.9375 10.546875 \r\nQ 45.796875 14.203125 45.796875 21.1875 \r\nQ 45.796875 27.640625 41.28125 31.265625 \r\nQ 36.765625 34.90625 28.71875 34.90625 \r\nL 20.21875 34.90625 \r\nL 20.21875 43.015625 \r\nL 29.109375 43.015625 \r\nQ 36.375 43.015625 40.234375 45.921875 \r\nQ 44.09375 48.828125 44.09375 54.296875 \r\nQ 44.09375 59.90625 40.109375 62.90625 \r\nQ 36.140625 65.921875 28.71875 65.921875 \r\nQ 24.65625 65.921875 20.015625 65.03125 \r\nQ 15.375 64.15625 9.8125 62.3125 \r\nL 9.8125 71.09375 \r\nQ 15.4375 72.65625 20.34375 73.4375 \r\nQ 25.25 74.21875 29.59375 74.21875 \r\nQ 40.828125 74.21875 47.359375 69.109375 \r\nQ 53.90625 64.015625 53.90625 55.328125 \r\nQ 53.90625 49.265625 50.4375 45.09375 \r\nQ 46.96875 40.921875 40.578125 39.3125 \r\nz\r\n\" id=\"DejaVuSans-51\"/>\r\n       </defs>\r\n       <use xlink:href=\"#DejaVuSans-51\"/>\r\n       <use x=\"63.623047\" xlink:href=\"#DejaVuSans-46\"/>\r\n       <use x=\"95.410156\" xlink:href=\"#DejaVuSans-48\"/>\r\n      </g>\r\n     </g>\r\n    </g>\r\n    <g id=\"ytick_8\">\r\n     <g id=\"line2d_11\">\r\n      <g>\r\n       <use style=\"stroke:#000000;stroke-width:0.8;\" x=\"30.103125\" xlink:href=\"#m5014fc0db1\" y=\"43.44\"/>\r\n      </g>\r\n     </g>\r\n     <g id=\"text_11\">\r\n      <!-- 3.5 -->\r\n      <g transform=\"translate(7.2 47.239219)scale(0.1 -0.1)\">\r\n       <use xlink:href=\"#DejaVuSans-51\"/>\r\n       <use x=\"63.623047\" xlink:href=\"#DejaVuSans-46\"/>\r\n       <use x=\"95.410156\" xlink:href=\"#DejaVuSans-53\"/>\r\n      </g>\r\n     </g>\r\n    </g>\r\n    <g id=\"ytick_9\">\r\n     <g id=\"line2d_12\">\r\n      <g>\r\n       <use style=\"stroke:#000000;stroke-width:0.8;\" x=\"30.103125\" xlink:href=\"#m5014fc0db1\" y=\"17.554286\"/>\r\n      </g>\r\n     </g>\r\n     <g id=\"text_12\">\r\n      <!-- 4.0 -->\r\n      <g transform=\"translate(7.2 21.353504)scale(0.1 -0.1)\">\r\n       <defs>\r\n        <path d=\"M 37.796875 64.3125 \r\nL 12.890625 25.390625 \r\nL 37.796875 25.390625 \r\nz\r\nM 35.203125 72.90625 \r\nL 47.609375 72.90625 \r\nL 47.609375 25.390625 \r\nL 58.015625 25.390625 \r\nL 58.015625 17.1875 \r\nL 47.609375 17.1875 \r\nL 47.609375 0 \r\nL 37.796875 0 \r\nL 37.796875 17.1875 \r\nL 4.890625 17.1875 \r\nL 4.890625 26.703125 \r\nz\r\n\" id=\"DejaVuSans-52\"/>\r\n       </defs>\r\n       <use xlink:href=\"#DejaVuSans-52\"/>\r\n       <use x=\"63.623047\" xlink:href=\"#DejaVuSans-46\"/>\r\n       <use x=\"95.410156\" xlink:href=\"#DejaVuSans-48\"/>\r\n      </g>\r\n     </g>\r\n    </g>\r\n   </g>\r\n   <g id=\"line2d_13\">\r\n    <path clip-path=\"url(#pe35aed2207)\" d=\"M 0 0 \r\n\" style=\"fill:none;stroke:#424242;stroke-linecap:square;stroke-width:2.7;\"/>\r\n   </g>\r\n   <g id=\"line2d_14\">\r\n    <path clip-path=\"url(#pe35aed2207)\" d=\"M 0 0 \r\n\" style=\"fill:none;stroke:#424242;stroke-linecap:square;stroke-width:2.7;\"/>\r\n   </g>\r\n   <g id=\"line2d_15\">\r\n    <path clip-path=\"url(#pe35aed2207)\" d=\"M 0 0 \r\n\" style=\"fill:none;stroke:#424242;stroke-linecap:square;stroke-width:2.7;\"/>\r\n   </g>\r\n   <g id=\"patch_6\">\r\n    <path d=\"M 30.103125 224.64 \r\nL 30.103125 7.2 \r\n\" style=\"fill:none;stroke:#000000;stroke-linecap:square;stroke-linejoin:miter;stroke-width:0.8;\"/>\r\n   </g>\r\n   <g id=\"patch_7\">\r\n    <path d=\"M 364.903125 224.64 \r\nL 364.903125 7.2 \r\n\" style=\"fill:none;stroke:#000000;stroke-linecap:square;stroke-linejoin:miter;stroke-width:0.8;\"/>\r\n   </g>\r\n   <g id=\"patch_8\">\r\n    <path d=\"M 30.103125 224.64 \r\nL 364.903125 224.64 \r\n\" style=\"fill:none;stroke:#000000;stroke-linecap:square;stroke-linejoin:miter;stroke-width:0.8;\"/>\r\n   </g>\r\n   <g id=\"patch_9\">\r\n    <path d=\"M 30.103125 7.2 \r\nL 364.903125 7.2 \r\n\" style=\"fill:none;stroke:#000000;stroke-linecap:square;stroke-linejoin:miter;stroke-width:0.8;\"/>\r\n   </g>\r\n  </g>\r\n </g>\r\n <defs>\r\n  <clipPath id=\"pe35aed2207\">\r\n   <rect height=\"217.44\" width=\"334.8\" x=\"30.103125\" y=\"7.2\"/>\r\n  </clipPath>\r\n </defs>\r\n</svg>\r\n",
      "image/png": "[encoded data removed]"
     },
     "metadata": {
      "needs_background": "light"
     }
    }
   ],
   "source": [
    "s = pd.Series(yasumi_dict)\n",
    "sns.barplot(x=s.index, y=s.values)"
   ]
  },
  {
   "cell_type": "code",
   "execution_count": null,
   "metadata": {},
   "outputs": [],
   "source": []
  }
 ]
}