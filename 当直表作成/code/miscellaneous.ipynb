{
 "cells": [
  {
   "cell_type": "code",
   "execution_count": 1,
   "source": [
    "import onward_list_generator"
   ],
   "outputs": [],
   "metadata": {}
  },
  {
   "cell_type": "code",
   "execution_count": 12,
   "source": [
    "import math, random\n",
    "from pathlib import Path\n",
    "\n",
    "import matplotlib.pyplot as plt\n",
    "import pandas as pd\n",
    "import seaborn as sns\n",
    "import os"
   ],
   "outputs": [],
   "metadata": {}
  },
  {
   "cell_type": "code",
   "execution_count": 20,
   "source": [
    "code_dir = Path(os.getcwd())\n",
    "ipt_dir = Path(code_dir.parent, 'in')\n",
    "otpt_dir = Path(code_dir.parent, 'out')\n",
    "sns.set(font='IPAexGothic')"
   ],
   "outputs": [],
   "metadata": {}
  },
  {
   "cell_type": "code",
   "execution_count": 22,
   "source": [
    "olg = onward_list_generator.Onward_list_generator(ipt_dir=ipt_dir)\n"
   ],
   "outputs": [],
   "metadata": {}
  },
  {
   "cell_type": "code",
   "execution_count": 23,
   "source": [
    "olg.kibou_ume()\n",
    "olg.kyujitsu_ume()\n",
    "olg.nokori_ume()\n"
   ],
   "outputs": [
    {
     "output_type": "stream",
     "name": "stdout",
     "text": [
      "9\n",
      "候補いない\n",
      "候補いない\n",
      "候補いない\n",
      "候補いない\n",
      "候補いない\n",
      "候補いない\n",
      "候補いない\n",
      "候補いない\n",
      "候補いない\n",
      "候補いない\n",
      "候補いない\n"
     ]
    }
   ],
   "metadata": {}
  },
  {
   "cell_type": "code",
   "execution_count": 24,
   "source": [
    "olg.plot_day_count()\n"
   ],
   "outputs": [
    {
     "output_type": "display_data",
     "data": {
      "image/png": "[encoded data removed]",
      "text/plain": [
       "<Figure size 432x288 with 1 Axes>"
      ]
     },
     "metadata": {}
    }
   ],
   "metadata": {}
  },
  {
   "cell_type": "code",
   "execution_count": 25,
   "source": [
    "olg.plot_kyujitsu_count()\n"
   ],
   "outputs": [
    {
     "output_type": "display_data",
     "data": {
      "image/png": "[encoded data removed]",
      "text/plain": [
       "<Figure size 432x288 with 1 Axes>"
      ]
     },
     "metadata": {}
    }
   ],
   "metadata": {}
  },
  {
   "cell_type": "code",
   "execution_count": null,
   "source": [
    "\n",
    "result = olg.return_result()\n",
    "result.to_csv(Path(otpt_dir, '今月のセカンド担当表.csv'), encoding='shift-jis', index=False)\n"
   ],
   "outputs": [],
   "metadata": {}
  },
  {
   "cell_type": "code",
   "execution_count": 21,
   "source": [
    "!apt install zip\n",
    "# いらない？"
   ],
   "outputs": [
    {
     "output_type": "stream",
     "name": "stdout",
     "text": [
      "\n",
      "\n",
      "\n",
      "E: Unable to locate package zip\n"
     ]
    }
   ],
   "metadata": {}
  },
  {
   "cell_type": "code",
   "execution_count": 23,
   "source": [
    "!apt install unzip"
   ],
   "outputs": [
    {
     "output_type": "stream",
     "name": "stdout",
     "text": [
      "\n",
      "\n",
      "\n",
      "E: Unable to locate package unzip\n"
     ]
    }
   ],
   "metadata": {}
  },
  {
   "cell_type": "code",
   "execution_count": 25,
   "source": [
    "!apt update"
   ],
   "outputs": [
    {
     "output_type": "stream",
     "name": "stdout",
     "text": [
      "Get:1 http://deb.debian.org/debian buster InRelease [122 kB]\n",
      "Get:2 http://security.debian.org/debian-security buster/updates InRelease [65.4 kB]\n",
      "Get:3 http://deb.debian.org/debian buster-updates InRelease [51.9 kB]\n",
      "Get:4 http://deb.debian.org/debian buster/main amd64 Packages [7907 kB]\n",
      "Get:5 http://security.debian.org/debian-security buster/updates/main amd64 Packages [302 kB]\n",
      "Get:6 http://deb.debian.org/debian buster-updates/main amd64 Packages [15.2 kB]\n",
      "Fetched 8463 kB in 33s (258 kB/s)\n",
      "\n",
      "\n",
      "\n",
      "6 packages can be upgraded. Run 'apt list --upgradable' to see them.\n"
     ]
    }
   ],
   "metadata": {}
  },
  {
   "cell_type": "code",
   "execution_count": 26,
   "source": [
    "!apt install unzip"
   ],
   "outputs": [
    {
     "output_type": "stream",
     "name": "stdout",
     "text": [
      "\n",
      "\n",
      "\n",
      "Suggested packages:\n",
      "  zip\n",
      "The following NEW packages will be installed:\n",
      "  unzip\n",
      "0 upgraded, 1 newly installed, 0 to remove and 6 not upgraded.\n",
      "Need to get 172 kB of archives.\n",
      "After this operation, 580 kB of additional disk space will be used.\n",
      "Get:1 http://deb.debian.org/debian buster/main amd64 unzip amd64 6.0-23+deb10u2 [172 kB]\n",
      "Fetched 172 kB in 1s (208 kB/s)\n",
      "debconf: delaying package configuration, since apt-utils is not installed\n",
      "\n",
      "\u001b7\u001b[0;23r\u001b8\u001b[1ASelecting previously unselected package unzip.\n",
      "(Reading database ... 12133 files and directories currently installed.)\n",
      "Preparing to unpack .../unzip_6.0-23+deb10u2_amd64.deb ...\n",
      "\u001b7\u001b[24;0f\u001b[42m\u001b[30mProgress: [  0%]\u001b[49m\u001b[39m [..........................................................] \u001b8\u001b7\u001b[24;0f\u001b[42m\u001b[30mProgress: [ 20%]\u001b[49m\u001b[39m [###########...............................................] \u001b8Unpacking unzip (6.0-23+deb10u2) ...\n",
      "\u001b7\u001b[24;0f\u001b[42m\u001b[30mProgress: [ 40%]\u001b[49m\u001b[39m [#######################...................................] \u001b8Setting up unzip (6.0-23+deb10u2) ...\n",
      "\u001b7\u001b[24;0f\u001b[42m\u001b[30mProgress: [ 60%]\u001b[49m\u001b[39m [##################################........................] \u001b8\u001b7\u001b[24;0f\u001b[42m\u001b[30mProgress: [ 80%]\u001b[49m\u001b[39m [##############################################............] \u001b8Processing triggers for mime-support (3.62) ...\n",
      "\n",
      "\u001b7\u001b[0;24r\u001b8\u001b[1A\u001b[J"
     ]
    }
   ],
   "metadata": {}
  },
  {
   "cell_type": "code",
   "execution_count": 28,
   "source": [
    "import matplotlib.font_manager as fm\n",
    "fm.findSystemFonts(fontpaths=None, fontext='ttf')"
   ],
   "outputs": [
    {
     "output_type": "execute_result",
     "data": {
      "text/plain": [
       "[]"
      ]
     },
     "metadata": {},
     "execution_count": 28
    }
   ],
   "metadata": {}
  },
  {
   "cell_type": "code",
   "execution_count": 9,
   "source": [
    "!wget -P /tmp https://moji.or.jp/wp-content/ipafont/IPAexfont/ipaexg00401.zip"
   ],
   "outputs": [
    {
     "output_type": "stream",
     "name": "stdout",
     "text": [
      "--2021-08-26 08:32:14--  https://moji.or.jp/wp-content/ipafont/IPAexfont/ipaexg00401.zip\n",
      "Resolving moji.or.jp (moji.or.jp)... 157.7.44.215\n",
      "Connecting to moji.or.jp (moji.or.jp)|157.7.44.215|:443... connected.\n",
      "HTTP request sent, awaiting response... 200 OK\n",
      "Length: 4166255 (4.0M) [application/zip]\n",
      "Saving to: ‘/tmp/ipaexg00401.zip’\n",
      "\n",
      "ipaexg00401.zip     100%[===================>]   3.97M   618KB/s    in 6.4s    \n",
      "\n",
      "2021-08-26 08:32:20 (640 KB/s) - ‘/tmp/ipaexg00401.zip’ saved [4166255/4166255]\n",
      "\n"
     ]
    }
   ],
   "metadata": {}
  },
  {
   "cell_type": "code",
   "execution_count": 27,
   "source": [
    "!unzip -l /tmp/ipaexg00401.zip"
   ],
   "outputs": [
    {
     "output_type": "stream",
     "name": "stdout",
     "text": [
      "Archive:  /tmp/ipaexg00401.zip\n",
      "  Length      Date    Time    Name\n",
      "---------  ---------- -----   ----\n",
      "        0  2019-04-26 05:01   ipaexg00401/\n",
      "  6099900  2019-04-26 03:17   ipaexg00401/ipaexg.ttf\n",
      "    20564  2019-04-26 04:43   ipaexg00401/IPA_Font_License_Agreement_v1.0.txt\n",
      "     1710  2019-04-26 05:00   ipaexg00401/Readme_ipaexg00401.txt\n",
      "---------                     -------\n",
      "  6122174                     4 files\n"
     ]
    }
   ],
   "metadata": {}
  },
  {
   "cell_type": "code",
   "execution_count": 29,
   "source": [
    "!unzip -d /usr/share/font /tmp/ipaexg00401.zip"
   ],
   "outputs": [
    {
     "output_type": "stream",
     "name": "stdout",
     "text": [
      "Archive:  /tmp/ipaexg00401.zip\n",
      "   creating: /usr/share/font/ipaexg00401/\n",
      "  inflating: /usr/share/font/ipaexg00401/ipaexg.ttf  \n",
      "  inflating: /usr/share/font/ipaexg00401/IPA_Font_License_Agreement_v1.0.txt  \n",
      "  inflating: /usr/share/font/ipaexg00401/Readme_ipaexg00401.txt  \n"
     ]
    }
   ],
   "metadata": {}
  },
  {
   "cell_type": "code",
   "execution_count": 31,
   "source": [
    "!ls /usr/share/font/ipaexg00401"
   ],
   "outputs": [
    {
     "output_type": "stream",
     "name": "stdout",
     "text": [
      "IPA_Font_License_Agreement_v1.0.txt  Readme_ipaexg00401.txt  ipaexg.ttf\n"
     ]
    }
   ],
   "metadata": {}
  },
  {
   "cell_type": "code",
   "execution_count": 37,
   "source": [
    "fm.FontManager().addfont('/usr/share/font/ipaexg00401/ipaexg.ttf')\n",
    "fm.findSystemFonts(fontpaths=None, fontext='ttf')"
   ],
   "outputs": [
    {
     "output_type": "execute_result",
     "data": {
      "text/plain": [
       "[]"
      ]
     },
     "metadata": {},
     "execution_count": 37
    }
   ],
   "metadata": {}
  },
  {
   "cell_type": "code",
   "execution_count": 39,
   "source": [
    "fm.FontManager().findfont(prop='ipaexg')"
   ],
   "outputs": [
    {
     "output_type": "stream",
     "name": "stderr",
     "text": [
      "findfont: Font family ['ipaexg'] not found. Falling back to DejaVu Sans.\n"
     ]
    },
    {
     "output_type": "execute_result",
     "data": {
      "text/plain": [
       "'/opt/conda/lib/python3.9/site-packages/matplotlib/mpl-data/fonts/ttf/DejaVuSans.ttf'"
      ]
     },
     "metadata": {},
     "execution_count": 39
    }
   ],
   "metadata": {}
  },
  {
   "cell_type": "code",
   "execution_count": 40,
   "source": [
    "!cp /usr/share/font/ipaexg00401/ipaexg.ttf /opt/conda/lib/python3.9/site-packages/matplotlib/mpl-data/fonts/ttf/ipaexg.ttf"
   ],
   "outputs": [],
   "metadata": {}
  },
  {
   "cell_type": "code",
   "execution_count": 41,
   "source": [
    "fm.FontManager().findfont(prop='ipaexg')"
   ],
   "outputs": [
    {
     "output_type": "stream",
     "name": "stderr",
     "text": [
      "findfont: Font family ['ipaexg'] not found. Falling back to DejaVu Sans.\n"
     ]
    },
    {
     "output_type": "execute_result",
     "data": {
      "text/plain": [
       "'/opt/conda/lib/python3.9/site-packages/matplotlib/mpl-data/fonts/ttf/DejaVuSans.ttf'"
      ]
     },
     "metadata": {},
     "execution_count": 41
    }
   ],
   "metadata": {}
  },
  {
   "cell_type": "code",
   "execution_count": 42,
   "source": [
    "fm.findSystemFonts(fontpaths=None, fontext='ttf')"
   ],
   "outputs": [
    {
     "output_type": "execute_result",
     "data": {
      "text/plain": [
       "[]"
      ]
     },
     "metadata": {},
     "execution_count": 42
    }
   ],
   "metadata": {}
  },
  {
   "cell_type": "code",
   "execution_count": 43,
   "source": [
    "import matplotlib\n",
    "matplotlib.matplotlib_fname()"
   ],
   "outputs": [
    {
     "output_type": "execute_result",
     "data": {
      "text/plain": [
       "'/opt/conda/lib/python3.9/site-packages/matplotlib/mpl-data/matplotlibrc'"
      ]
     },
     "metadata": {},
     "execution_count": 43
    }
   ],
   "metadata": {}
  },
  {
   "cell_type": "code",
   "execution_count": 44,
   "source": [
    "!echo 'font.family : IPAexGothic' >> /opt/conda/lib/python3.9/site-packages/matplotlib/mpl-data/matplotlibrc\n",
    "# いる？"
   ],
   "outputs": [],
   "metadata": {}
  },
  {
   "cell_type": "code",
   "execution_count": 50,
   "source": [
    "fontpath = '/opt/conda/lib/python3.9/site-packages/matplotlib/mpl-data/fonts/ttf/ipaexg.ttf'\n",
    "prop = fm.FontProperties(fname=fontpath)"
   ],
   "outputs": [],
   "metadata": {}
  },
  {
   "cell_type": "code",
   "execution_count": 52,
   "source": [
    "# http://www.himpactwxlab.com/home/how-to-wiki/change-matplotlib-fonts\n",
    "matplotlib.rcParams['font.family'] = prop.get_name()"
   ],
   "outputs": [],
   "metadata": {}
  },
  {
   "cell_type": "code",
   "execution_count": 47,
   "source": [
    "# font_list = fm.createFontList(font_files)\n",
    "# font_manager.fontManager.ttflist.extend(font_list)\n",
    "\n",
    "# https://stackoverflow.com/questions/35668219/how-to-set-up-a-custom-font-with-custom-path-to-matplotlib-global-font/43647344"
   ],
   "outputs": [],
   "metadata": {}
  },
  {
   "cell_type": "code",
   "execution_count": 53,
   "source": [
    "matplotlib.get_configdir()"
   ],
   "outputs": [
    {
     "output_type": "execute_result",
     "data": {
      "text/plain": [
       "'/root/.config/matplotlib'"
      ]
     },
     "metadata": {},
     "execution_count": 53
    }
   ],
   "metadata": {}
  },
  {
   "cell_type": "code",
   "execution_count": 54,
   "source": [
    "!rm -r /root/.config/matplotlib"
   ],
   "outputs": [],
   "metadata": {}
  },
  {
   "cell_type": "code",
   "execution_count": 58,
   "source": [
    "fm.findSystemFonts(fontpaths=None)\n"
   ],
   "outputs": [
    {
     "output_type": "execute_result",
     "data": {
      "text/plain": [
       "[]"
      ]
     },
     "metadata": {},
     "execution_count": 58
    }
   ],
   "metadata": {}
  },
  {
   "cell_type": "code",
   "execution_count": 56,
   "source": [
    "cat /opt/conda/lib/python3.9/site-packages/matplotlib/mpl-data/matplotlibrc\n"
   ],
   "outputs": [
    {
     "output_type": "stream",
     "name": "stdout",
     "text": [
      "#### MATPLOTLIBRC FORMAT\n",
      "\n",
      "## NOTE FOR END USERS: DO NOT EDIT THIS FILE!\n",
      "##\n",
      "## This is a sample Matplotlib configuration file - you can find a copy\n",
      "## of it on your system in site-packages/matplotlib/mpl-data/matplotlibrc\n",
      "## (relative to your Python installation location).\n",
      "##\n",
      "## You should find a copy of it on your system at\n",
      "## site-packages/matplotlib/mpl-data/matplotlibrc (relative to your Python\n",
      "## installation location).  DO NOT EDIT IT!\n",
      "##\n",
      "## If you wish to change your default style, copy this file to one of the\n",
      "## following locations:\n",
      "##     Unix/Linux:\n",
      "##         $HOME/.config/matplotlib/matplotlibrc OR\n",
      "##         $XDG_CONFIG_HOME/matplotlib/matplotlibrc (if $XDG_CONFIG_HOME is set)\n",
      "##     Other platforms:\n",
      "##         $HOME/.matplotlib/matplotlibrc\n",
      "## and edit that copy.\n",
      "##\n",
      "## See https://matplotlib.org/users/customizing.html#the-matplotlibrc-file\n",
      "## for more details on the paths which are checked for the configuration file.\n",
      "##\n",
      "## Blank lines, or lines starting with a comment symbol, are ignored, as are\n",
      "## trailing comments.  Other lines must have the format:\n",
      "##     key: val  # optional comment\n",
      "##\n",
      "## Formatting: Use PEP8-like style (as enforced in the rest of the codebase).\n",
      "## All lines start with an additional '#', so that removing all leading '#'s\n",
      "## yields a valid style file.\n",
      "##\n",
      "## Colors: for the color values below, you can either use\n",
      "##     - a Matplotlib color string, such as r, k, or b\n",
      "##     - an RGB tuple, such as (1.0, 0.5, 0.0)\n",
      "##     - a hex string, such as ff00ff\n",
      "##     - a scalar grayscale intensity such as 0.75\n",
      "##     - a legal html color name, e.g., red, blue, darkslategray\n",
      "##\n",
      "## Matplotlib configuration are currently divided into following parts:\n",
      "##     - BACKENDS\n",
      "##     - LINES\n",
      "##     - PATCHES\n",
      "##     - HATCHES\n",
      "##     - BOXPLOT\n",
      "##     - FONT\n",
      "##     - TEXT\n",
      "##     - LaTeX\n",
      "##     - AXES\n",
      "##     - DATES\n",
      "##     - TICKS\n",
      "##     - GRIDS\n",
      "##     - LEGEND\n",
      "##     - FIGURE\n",
      "##     - IMAGES\n",
      "##     - CONTOUR PLOTS\n",
      "##     - ERRORBAR PLOTS\n",
      "##     - HISTOGRAM PLOTS\n",
      "##     - SCATTER PLOTS\n",
      "##     - AGG RENDERING\n",
      "##     - PATHS\n",
      "##     - SAVING FIGURES\n",
      "##     - INTERACTIVE KEYMAPS\n",
      "##     - ANIMATION\n",
      "\n",
      "##### CONFIGURATION BEGINS HERE\n",
      "\n",
      "\n",
      "## ***************************************************************************\n",
      "## * BACKENDS                                                                *\n",
      "## ***************************************************************************\n",
      "## The default backend.  If you omit this parameter, the first working\n",
      "## backend from the following list is used:\n",
      "##     MacOSX Qt5Agg Gtk3Agg TkAgg WxAgg Agg\n",
      "## Other choices include:\n",
      "##     Qt5Cairo GTK3Cairo TkCairo WxCairo Cairo\n",
      "##     Qt4Agg Qt4Cairo Wx  # deprecated.\n",
      "##     PS PDF SVG Template\n",
      "## You can also deploy your own backend outside of Matplotlib by referring to\n",
      "## the module name (which must be in the PYTHONPATH) as 'module://my_backend'.\n",
      "#backend: Agg\n",
      "\n",
      "## The port to use for the web server in the WebAgg backend.\n",
      "#webagg.port: 8988\n",
      "\n",
      "## The address on which the WebAgg web server should be reachable\n",
      "#webagg.address: 127.0.0.1\n",
      "\n",
      "## If webagg.port is unavailable, a number of other random ports will\n",
      "## be tried until one that is available is found.\n",
      "#webagg.port_retries: 50\n",
      "\n",
      "## When True, open the web browser to the plot that is shown\n",
      "#webagg.open_in_browser: True\n",
      "\n",
      "## If you are running pyplot inside a GUI and your backend choice\n",
      "## conflicts, we will automatically try to find a compatible one for\n",
      "## you if backend_fallback is True\n",
      "#backend_fallback: True\n",
      "\n",
      "#interactive: False\n",
      "#toolbar:     toolbar2  # {None, toolbar2, toolmanager}\n",
      "#timezone:    UTC       # a pytz timezone string, e.g., US/Central or Europe/Paris\n",
      "\n",
      "\n",
      "## ***************************************************************************\n",
      "## * LINES                                                                   *\n",
      "## ***************************************************************************\n",
      "## See https://matplotlib.org/api/artist_api.html#module-matplotlib.lines\n",
      "## for more information on line properties.\n",
      "#lines.linewidth: 1.5               # line width in points\n",
      "#lines.linestyle: -                 # solid line\n",
      "#lines.color:     C0                # has no affect on plot(); see axes.prop_cycle\n",
      "#lines.marker:          None        # the default marker\n",
      "#lines.markerfacecolor: auto        # the default marker face color\n",
      "#lines.markeredgecolor: auto        # the default marker edge color\n",
      "#lines.markeredgewidth: 1.0         # the line width around the marker symbol\n",
      "#lines.markersize:      6           # marker size, in points\n",
      "#lines.dash_joinstyle:  round       # {miter, round, bevel}\n",
      "#lines.dash_capstyle:   butt        # {butt, round, projecting}\n",
      "#lines.solid_joinstyle: round       # {miter, round, bevel}\n",
      "#lines.solid_capstyle:  projecting  # {butt, round, projecting}\n",
      "#lines.antialiased: True            # render lines in antialiased (no jaggies)\n",
      "\n",
      "## The three standard dash patterns.  These are scaled by the linewidth.\n",
      "#lines.dashed_pattern: 3.7, 1.6\n",
      "#lines.dashdot_pattern: 6.4, 1.6, 1, 1.6\n",
      "#lines.dotted_pattern: 1, 1.65\n",
      "#lines.scale_dashes: True\n",
      "\n",
      "#markers.fillstyle: full  # {full, left, right, bottom, top, none}\n",
      "\n",
      "#pcolor.shading : flat\n",
      "#pcolormesh.snap : True  # Whether to snap the mesh to pixel boundaries. This\n",
      "                         # is provided solely to allow old test images to remain\n",
      "                         # unchanged. Set to False to obtain the previous behavior.\n",
      "\n",
      "## ***************************************************************************\n",
      "## * PATCHES                                                                 *\n",
      "## ***************************************************************************\n",
      "## Patches are graphical objects that fill 2D space, like polygons or circles.\n",
      "## See https://matplotlib.org/api/artist_api.html#module-matplotlib.patches\n",
      "## for more information on patch properties.\n",
      "#patch.linewidth:       1      # edge width in points.\n",
      "#patch.facecolor:       C0\n",
      "#patch.edgecolor:       black  # if forced, or patch is not filled\n",
      "#patch.force_edgecolor: False  # True to always use edgecolor\n",
      "#patch.antialiased:     True   # render patches in antialiased (no jaggies)\n",
      "\n",
      "\n",
      "## ***************************************************************************\n",
      "## * HATCHES                                                                 *\n",
      "## ***************************************************************************\n",
      "#hatch.color:     black\n",
      "#hatch.linewidth: 1.0\n",
      "\n",
      "\n",
      "## ***************************************************************************\n",
      "## * BOXPLOT                                                                 *\n",
      "## ***************************************************************************\n",
      "#boxplot.notch:       False\n",
      "#boxplot.vertical:    True\n",
      "#boxplot.whiskers:    1.5\n",
      "#boxplot.bootstrap:   None\n",
      "#boxplot.patchartist: False\n",
      "#boxplot.showmeans:   False\n",
      "#boxplot.showcaps:    True\n",
      "#boxplot.showbox:     True\n",
      "#boxplot.showfliers:  True\n",
      "#boxplot.meanline:    False\n",
      "\n",
      "#boxplot.flierprops.color:           black\n",
      "#boxplot.flierprops.marker:          o\n",
      "#boxplot.flierprops.markerfacecolor: none\n",
      "#boxplot.flierprops.markeredgecolor: black\n",
      "#boxplot.flierprops.markeredgewidth: 1.0\n",
      "#boxplot.flierprops.markersize:      6\n",
      "#boxplot.flierprops.linestyle:       none\n",
      "#boxplot.flierprops.linewidth:       1.0\n",
      "\n",
      "#boxplot.boxprops.color:     black\n",
      "#boxplot.boxprops.linewidth: 1.0\n",
      "#boxplot.boxprops.linestyle: -\n",
      "\n",
      "#boxplot.whiskerprops.color:     black\n",
      "#boxplot.whiskerprops.linewidth: 1.0\n",
      "#boxplot.whiskerprops.linestyle: -\n",
      "\n",
      "#boxplot.capprops.color:     black\n",
      "#boxplot.capprops.linewidth: 1.0\n",
      "#boxplot.capprops.linestyle: -\n",
      "\n",
      "#boxplot.medianprops.color:     C1\n",
      "#boxplot.medianprops.linewidth: 1.0\n",
      "#boxplot.medianprops.linestyle: -\n",
      "\n",
      "#boxplot.meanprops.color:           C2\n",
      "#boxplot.meanprops.marker:          ^\n",
      "#boxplot.meanprops.markerfacecolor: C2\n",
      "#boxplot.meanprops.markeredgecolor: C2\n",
      "#boxplot.meanprops.markersize:       6\n",
      "#boxplot.meanprops.linestyle:       --\n",
      "#boxplot.meanprops.linewidth:       1.0\n",
      "\n",
      "\n",
      "## ***************************************************************************\n",
      "## * FONT                                                                    *\n",
      "## ***************************************************************************\n",
      "## The font properties used by `text.Text`.\n",
      "## See https://matplotlib.org/api/font_manager_api.html for more information\n",
      "## on font properties.  The 6 font properties used for font matching are\n",
      "## given below with their default values.\n",
      "##\n",
      "## The font.family property can take either a concrete font name (not supported\n",
      "## when rendering text with usetex), or one of the following five generic\n",
      "## values:\n",
      "##     - 'serif' (e.g., Times),\n",
      "##     - 'sans-serif' (e.g., Helvetica),\n",
      "##     - 'cursive' (e.g., Zapf-Chancery),\n",
      "##     - 'fantasy' (e.g., Western), and\n",
      "##     - 'monospace' (e.g., Courier).\n",
      "## Each of these values has a corresponding default list of font names\n",
      "## (font.serif, etc.); the first available font in the list is used.  Note that\n",
      "## for font.serif, font.sans-serif, and font.monospace, the first element of\n",
      "## the list (a DejaVu font) will always be used because DejaVu is shipped with\n",
      "## Matplotlib and is thus guaranteed to be available; the other entries are\n",
      "## left as examples of other possible values.\n",
      "##\n",
      "## The font.style property has three values: normal (or roman), italic\n",
      "## or oblique.  The oblique style will be used for italic, if it is not\n",
      "## present.\n",
      "##\n",
      "## The font.variant property has two values: normal or small-caps.  For\n",
      "## TrueType fonts, which are scalable fonts, small-caps is equivalent\n",
      "## to using a font size of 'smaller', or about 83%% of the current font\n",
      "## size.\n",
      "##\n",
      "## The font.weight property has effectively 13 values: normal, bold,\n",
      "## bolder, lighter, 100, 200, 300, ..., 900.  Normal is the same as\n",
      "## 400, and bold is 700.  bolder and lighter are relative values with\n",
      "## respect to the current weight.\n",
      "##\n",
      "## The font.stretch property has 11 values: ultra-condensed,\n",
      "## extra-condensed, condensed, semi-condensed, normal, semi-expanded,\n",
      "## expanded, extra-expanded, ultra-expanded, wider, and narrower.  This\n",
      "## property is not currently implemented.\n",
      "##\n",
      "## The font.size property is the default font size for text, given in points.\n",
      "## 10 pt is the standard value.\n",
      "##\n",
      "## Note that font.size controls default text sizes.  To configure\n",
      "## special text sizes tick labels, axes, labels, title, etc., see the rc\n",
      "## settings for axes and ticks.  Special text sizes can be defined\n",
      "## relative to font.size, using the following values: xx-small, x-small,\n",
      "## small, medium, large, x-large, xx-large, larger, or smaller\n",
      "\n",
      "#font.family:  sans-serif\n",
      "#font.style:   normal\n",
      "#font.variant: normal\n",
      "#font.weight:  normal\n",
      "#font.stretch: normal\n",
      "#font.size:    10.0\n",
      "\n",
      "#font.serif:      DejaVu Serif, Bitstream Vera Serif, Computer Modern Roman, New Century Schoolbook, Century Schoolbook L, Utopia, ITC Bookman, Bookman, Nimbus Roman No9 L, Times New Roman, Times, Palatino, Charter, serif\n",
      "#font.sans-serif: DejaVu Sans, Bitstream Vera Sans, Computer Modern Sans Serif, Lucida Grande, Verdana, Geneva, Lucid, Arial, Helvetica, Avant Garde, sans-serif\n",
      "#font.cursive:    Apple Chancery, Textile, Zapf Chancery, Sand, Script MT, Felipa, Comic Neue, Comic Sans MS, cursive\n",
      "#font.fantasy:    Chicago, Charcoal, Impact, Western, Humor Sans, xkcd, fantasy\n",
      "#font.monospace:  DejaVu Sans Mono, Bitstream Vera Sans Mono, Computer Modern Typewriter, Andale Mono, Nimbus Mono L, Courier New, Courier, Fixed, Terminal, monospace\n",
      "\n",
      "\n",
      "## ***************************************************************************\n",
      "## * TEXT                                                                    *\n",
      "## ***************************************************************************\n",
      "## The text properties used by `text.Text`.\n",
      "## See https://matplotlib.org/api/artist_api.html#module-matplotlib.text\n",
      "## for more information on text properties\n",
      "#text.color: black\n",
      "\n",
      "\n",
      "## ***************************************************************************\n",
      "## * LaTeX                                                                   *\n",
      "## ***************************************************************************\n",
      "## For more information on LaTeX properties, see\n",
      "## https://matplotlib.org/tutorials/text/usetex.html\n",
      "#text.usetex: False  # use latex for all text handling. The following fonts\n",
      "                     # are supported through the usual rc parameter settings:\n",
      "                     # new century schoolbook, bookman, times, palatino,\n",
      "                     # zapf chancery, charter, serif, sans-serif, helvetica,\n",
      "                     # avant garde, courier, monospace, computer modern roman,\n",
      "                     # computer modern sans serif, computer modern typewriter\n",
      "                     # If another font is desired which can loaded using the\n",
      "                     # LaTeX \\usepackage command, please inquire at the\n",
      "                     # Matplotlib mailing list\n",
      "#text.latex.preamble:   # IMPROPER USE OF THIS FEATURE WILL LEAD TO LATEX FAILURES\n",
      "                        # AND IS THEREFORE UNSUPPORTED. PLEASE DO NOT ASK FOR HELP\n",
      "                        # IF THIS FEATURE DOES NOT DO WHAT YOU EXPECT IT TO.\n",
      "                        # text.latex.preamble is a single line of LaTeX code that\n",
      "                        # will be passed on to the LaTeX system. It may contain\n",
      "                        # any code that is valid for the LaTeX \"preamble\", i.e.\n",
      "                        # between the \"\\documentclass\" and \"\\begin{document}\"\n",
      "                        # statements.\n",
      "                        # Note that it has to be put on a single line, which may\n",
      "                        # become quite long.\n",
      "                        # The following packages are always loaded with usetex, so\n",
      "                        # beware of package collisions: color, geometry, graphicx,\n",
      "                        # type1cm, textcomp.\n",
      "                        # Adobe Postscript (PSSNFS) font packages may also be\n",
      "                        # loaded, depending on your font settings.\n",
      "\n",
      "## FreeType hinting flag (\"foo\" corresponds to FT_LOAD_FOO); may be one of the\n",
      "## following (Proprietary Matplotlib-specific synonyms are given in parentheses,\n",
      "## but their use is discouraged):\n",
      "## - default: Use the font's native hinter if possible, else FreeType's auto-hinter.\n",
      "##            (\"either\" is a synonym).\n",
      "## - no_autohint: Use the font's native hinter if possible, else don't hint.\n",
      "##                (\"native\" is a synonym.)\n",
      "## - force_autohint: Use FreeType's auto-hinter.  (\"auto\" is a synonym.)\n",
      "## - no_hinting: Disable hinting.  (\"none\" is a synonym.)\n",
      "#text.hinting: force_autohint\n",
      "\n",
      "#text.hinting_factor: 8  # Specifies the amount of softness for hinting in the\n",
      "                         # horizontal direction.  A value of 1 will hint to full\n",
      "                         # pixels.  A value of 2 will hint to half pixels etc.\n",
      "#text.kerning_factor : 0  # Specifies the scaling factor for kerning values. This\n",
      "                          # is provided solely to allow old test images to remain\n",
      "                          # unchanged. Set to 6 to obtain previous behavior. Values\n",
      "                          # other than 0 or 6 have no defined meaning.\n",
      "#text.antialiased: True  # If True (default), the text will be antialiased.\n",
      "                         # This only affects raster outputs.\n",
      "\n",
      "## The following settings allow you to select the fonts in math mode.\n",
      "#mathtext.fontset: dejavusans  # Should be 'dejavusans' (default),\n",
      "                               # 'dejavuserif', 'cm' (Computer Modern), 'stix',\n",
      "                               # 'stixsans' or 'custom' (unsupported, may go\n",
      "                               # away in the future)\n",
      "## \"mathtext.fontset: custom\" is defined by the mathtext.bf, .cal, .it, ...\n",
      "## settings which map a TeX font name to a fontconfig font pattern.  (These\n",
      "## settings are not used for other font sets.)\n",
      "#mathtext.bf:  sans:bold\n",
      "#mathtext.cal: cursive\n",
      "#mathtext.it:  sans:italic\n",
      "#mathtext.rm:  sans\n",
      "#mathtext.sf:  sans\n",
      "#mathtext.tt:  monospace\n",
      "#mathtext.fallback: cm  # Select fallback font from ['cm' (Computer Modern), 'stix'\n",
      "                        # 'stixsans'] when a symbol can not be found in one of the\n",
      "                        # custom math fonts. Select 'None' to not perform fallback\n",
      "                        # and replace the missing character by a dummy symbol.\n",
      "#mathtext.default: it  # The default font to use for math.\n",
      "                       # Can be any of the LaTeX font names, including\n",
      "                       # the special name \"regular\" for the same font\n",
      "                       # used in regular text.\n",
      "\n",
      "\n",
      "## ***************************************************************************\n",
      "## * AXES                                                                    *\n",
      "## ***************************************************************************\n",
      "## Following are default face and edge colors, default tick sizes,\n",
      "## default font sizes for tick labels, and so on.  See\n",
      "## https://matplotlib.org/api/axes_api.html#module-matplotlib.axes\n",
      "#axes.facecolor:     white   # axes background color\n",
      "#axes.edgecolor:     black   # axes edge color\n",
      "#axes.linewidth:     0.8     # edge line width\n",
      "#axes.grid:          False   # display grid or not\n",
      "#axes.grid.axis:     both    # which axis the grid should apply to\n",
      "#axes.grid.which:    major   # grid lines at {major, minor, both} ticks\n",
      "#axes.titlelocation: center  # alignment of the title: {left, right, center}\n",
      "#axes.titlesize:     large   # font size of the axes title\n",
      "#axes.titleweight:   normal  # font weight of title\n",
      "#axes.titlecolor:    auto    # color of the axes title, auto falls back to\n",
      "                             # text.color as default value\n",
      "#axes.titley:        None    # position title (axes relative units).  None implies auto\n",
      "#axes.titlepad:      6.0     # pad between axes and title in points\n",
      "#axes.labelsize:     medium  # font size of the x and y labels\n",
      "#axes.labelpad:      4.0     # space between label and axis\n",
      "#axes.labelweight:   normal  # weight of the x and y labels\n",
      "#axes.labelcolor:    black\n",
      "#axes.axisbelow:     line    # draw axis gridlines and ticks:\n",
      "                             #     - below patches (True)\n",
      "                             #     - above patches but below lines ('line')\n",
      "                             #     - above all (False)\n",
      "\n",
      "#axes.formatter.limits: -5, 6  # use scientific notation if log10\n",
      "                               # of the axis range is smaller than the\n",
      "                               # first or larger than the second\n",
      "#axes.formatter.use_locale: False  # When True, format tick labels\n",
      "                                   # according to the user's locale.\n",
      "                                   # For example, use ',' as a decimal\n",
      "                                   # separator in the fr_FR locale.\n",
      "#axes.formatter.use_mathtext: False  # When True, use mathtext for scientific\n",
      "                                     # notation.\n",
      "#axes.formatter.min_exponent: 0  # minimum exponent to format in scientific notation\n",
      "#axes.formatter.useoffset: True  # If True, the tick label formatter\n",
      "                                 # will default to labeling ticks relative\n",
      "                                 # to an offset when the data range is\n",
      "                                 # small compared to the minimum absolute\n",
      "                                 # value of the data.\n",
      "#axes.formatter.offset_threshold: 4  # When useoffset is True, the offset\n",
      "                                     # will be used when it can remove\n",
      "                                     # at least this number of significant\n",
      "                                     # digits from tick labels.\n",
      "\n",
      "#axes.spines.left:   True  # display axis spines\n",
      "#axes.spines.bottom: True\n",
      "#axes.spines.top:    True\n",
      "#axes.spines.right:  True\n",
      "\n",
      "#axes.unicode_minus: True  # use Unicode for the minus symbol rather than hyphen.  See\n",
      "                           # https://en.wikipedia.org/wiki/Plus_and_minus_signs#Character_codes\n",
      "#axes.prop_cycle: cycler('color', ['1f77b4', 'ff7f0e', '2ca02c', 'd62728', '9467bd', '8c564b', 'e377c2', '7f7f7f', 'bcbd22', '17becf'])\n",
      "                  # color cycle for plot lines as list of string color specs:\n",
      "                  # single letter, long name, or web-style hex\n",
      "                  # As opposed to all other parameters in this file, the color\n",
      "                  # values must be enclosed in quotes for this parameter,\n",
      "                  # e.g. '1f77b4', instead of 1f77b4.\n",
      "                  # See also https://matplotlib.org/tutorials/intermediate/color_cycle.html\n",
      "                  # for more details on prop_cycle usage.\n",
      "#axes.xmargin:   .05  # x margin.  See `axes.Axes.margins`\n",
      "#axes.ymargin:   .05  # y margin.  See `axes.Axes.margins`\n",
      "#axes.zmargin:   .05  # z margin.  See `axes.Axes.margins`\n",
      "#axes.autolimit_mode: data  # If \"data\", use axes.xmargin and axes.ymargin as is.\n",
      "                            # If \"round_numbers\", after application of margins, axis\n",
      "                            # limits are further expanded to the nearest \"round\" number.\n",
      "#polaraxes.grid: True  # display grid on polar axes\n",
      "#axes3d.grid:    True  # display grid on 3D axes\n",
      "\n",
      "\n",
      "## ***************************************************************************\n",
      "## * AXIS                                                                    *\n",
      "## ***************************************************************************\n",
      "#xaxis.labellocation: center  # alignment of the xaxis label: {left, right, center}\n",
      "#yaxis.labellocation: center  # alignment of the yaxis label: {bottom, top, center}\n",
      "\n",
      "\n",
      "## ***************************************************************************\n",
      "## * DATES                                                                   *\n",
      "## ***************************************************************************\n",
      "## These control the default format strings used in AutoDateFormatter.\n",
      "## Any valid format datetime format string can be used (see the python\n",
      "## `datetime` for details).  For example, by using:\n",
      "##     - '%%x' will use the locale date representation\n",
      "##     - '%%X' will use the locale time representation\n",
      "##     - '%%c' will use the full locale datetime representation\n",
      "## These values map to the scales:\n",
      "##     {'year': 365, 'month': 30, 'day': 1, 'hour': 1/24, 'minute': 1 / (24 * 60)}\n",
      "\n",
      "#date.autoformatter.year:        %Y\n",
      "#date.autoformatter.month:       %Y-%m\n",
      "#date.autoformatter.day:         %Y-%m-%d\n",
      "#date.autoformatter.hour:        %m-%d %H\n",
      "#date.autoformatter.minute:      %d %H:%M\n",
      "#date.autoformatter.second:      %H:%M:%S\n",
      "#date.autoformatter.microsecond: %M:%S.%f\n",
      "## The reference date for Matplotlib's internal date representation\n",
      "## See https://matplotlib.org/examples/ticks_and_spines/date_precision_and_epochs.py\n",
      "#date.epoch: 1970-01-01T00:00:00\n",
      "## 'auto', 'concise':\n",
      "#date.converter:                  auto\n",
      "## For auto converter whether to use interval_multiples:\n",
      "#date.interval_multiples:         True\n",
      "\n",
      "## ***************************************************************************\n",
      "## * TICKS                                                                   *\n",
      "## ***************************************************************************\n",
      "## See https://matplotlib.org/api/axis_api.html#matplotlib.axis.Tick\n",
      "#xtick.top:           False   # draw ticks on the top side\n",
      "#xtick.bottom:        True    # draw ticks on the bottom side\n",
      "#xtick.labeltop:      False   # draw label on the top\n",
      "#xtick.labelbottom:   True    # draw label on the bottom\n",
      "#xtick.major.size:    3.5     # major tick size in points\n",
      "#xtick.minor.size:    2       # minor tick size in points\n",
      "#xtick.major.width:   0.8     # major tick width in points\n",
      "#xtick.minor.width:   0.6     # minor tick width in points\n",
      "#xtick.major.pad:     3.5     # distance to major tick label in points\n",
      "#xtick.minor.pad:     3.4     # distance to the minor tick label in points\n",
      "#xtick.color:         black   # color of the ticks\n",
      "#xtick.labelcolor:    inherit # color of the tick labels or inherit from xtick.color\n",
      "#xtick.labelsize:     medium  # font size of the tick labels\n",
      "#xtick.direction:     out     # direction: {in, out, inout}\n",
      "#xtick.minor.visible: False   # visibility of minor ticks on x-axis\n",
      "#xtick.major.top:     True    # draw x axis top major ticks\n",
      "#xtick.major.bottom:  True    # draw x axis bottom major ticks\n",
      "#xtick.minor.top:     True    # draw x axis top minor ticks\n",
      "#xtick.minor.bottom:  True    # draw x axis bottom minor ticks\n",
      "#xtick.alignment:     center  # alignment of xticks\n",
      "\n",
      "#ytick.left:          True    # draw ticks on the left side\n",
      "#ytick.right:         False   # draw ticks on the right side\n",
      "#ytick.labelleft:     True    # draw tick labels on the left side\n",
      "#ytick.labelright:    False   # draw tick labels on the right side\n",
      "#ytick.major.size:    3.5     # major tick size in points\n",
      "#ytick.minor.size:    2       # minor tick size in points\n",
      "#ytick.major.width:   0.8     # major tick width in points\n",
      "#ytick.minor.width:   0.6     # minor tick width in points\n",
      "#ytick.major.pad:     3.5     # distance to major tick label in points\n",
      "#ytick.minor.pad:     3.4     # distance to the minor tick label in points\n",
      "#ytick.color:         black   # color of the ticks\n",
      "#ytick.labelcolor:    inherit # color of the tick labels or inherit from ytick.color\n",
      "#ytick.labelsize:     medium  # font size of the tick labels\n",
      "#ytick.direction:     out     # direction: {in, out, inout}\n",
      "#ytick.minor.visible: False   # visibility of minor ticks on y-axis\n",
      "#ytick.major.left:    True    # draw y axis left major ticks\n",
      "#ytick.major.right:   True    # draw y axis right major ticks\n",
      "#ytick.minor.left:    True    # draw y axis left minor ticks\n",
      "#ytick.minor.right:   True    # draw y axis right minor ticks\n",
      "#ytick.alignment:     center_baseline  # alignment of yticks\n",
      "\n",
      "\n",
      "## ***************************************************************************\n",
      "## * GRIDS                                                                   *\n",
      "## ***************************************************************************\n",
      "#grid.color:     b0b0b0  # grid color\n",
      "#grid.linestyle: -       # solid\n",
      "#grid.linewidth: 0.8     # in points\n",
      "#grid.alpha:     1.0     # transparency, between 0.0 and 1.0\n",
      "\n",
      "\n",
      "## ***************************************************************************\n",
      "## * LEGEND                                                                  *\n",
      "## ***************************************************************************\n",
      "#legend.loc:           best\n",
      "#legend.frameon:       True     # if True, draw the legend on a background patch\n",
      "#legend.framealpha:    0.8      # legend patch transparency\n",
      "#legend.facecolor:     inherit  # inherit from axes.facecolor; or color spec\n",
      "#legend.edgecolor:     0.8      # background patch boundary color\n",
      "#legend.fancybox:      True     # if True, use a rounded box for the\n",
      "                                # legend background, else a rectangle\n",
      "#legend.shadow:        False    # if True, give background a shadow effect\n",
      "#legend.numpoints:     1        # the number of marker points in the legend line\n",
      "#legend.scatterpoints: 1        # number of scatter points\n",
      "#legend.markerscale:   1.0      # the relative size of legend markers vs. original\n",
      "#legend.fontsize:      medium\n",
      "#legend.title_fontsize: None    # None sets to the same as the default axes.\n",
      "\n",
      "## Dimensions as fraction of font size:\n",
      "#legend.borderpad:     0.4  # border whitespace\n",
      "#legend.labelspacing:  0.5  # the vertical space between the legend entries\n",
      "#legend.handlelength:  2.0  # the length of the legend lines\n",
      "#legend.handleheight:  0.7  # the height of the legend handle\n",
      "#legend.handletextpad: 0.8  # the space between the legend line and legend text\n",
      "#legend.borderaxespad: 0.5  # the border between the axes and legend edge\n",
      "#legend.columnspacing: 2.0  # column separation\n",
      "\n",
      "\n",
      "## ***************************************************************************\n",
      "## * FIGURE                                                                  *\n",
      "## ***************************************************************************\n",
      "## See https://matplotlib.org/api/figure_api.html#matplotlib.figure.Figure\n",
      "#figure.titlesize:   large     # size of the figure title (``Figure.suptitle()``)\n",
      "#figure.titleweight: normal    # weight of the figure title\n",
      "#figure.figsize:     6.4, 4.8  # figure size in inches\n",
      "#figure.dpi:         100       # figure dots per inch\n",
      "#figure.facecolor:   white     # figure face color\n",
      "#figure.edgecolor:   white     # figure edge color\n",
      "#figure.frameon:     True      # enable figure frame\n",
      "#figure.max_open_warning: 20   # The maximum number of figures to open through\n",
      "                               # the pyplot interface before emitting a warning.\n",
      "                               # If less than one this feature is disabled.\n",
      "#figure.raise_window : True    # Raise the GUI window to front when show() is called.\n",
      "\n",
      "## The figure subplot parameters.  All dimensions are a fraction of the figure width and height.\n",
      "#figure.subplot.left:   0.125  # the left side of the subplots of the figure\n",
      "#figure.subplot.right:  0.9    # the right side of the subplots of the figure\n",
      "#figure.subplot.bottom: 0.11   # the bottom of the subplots of the figure\n",
      "#figure.subplot.top:    0.88   # the top of the subplots of the figure\n",
      "#figure.subplot.wspace: 0.2    # the amount of width reserved for space between subplots,\n",
      "                               # expressed as a fraction of the average axis width\n",
      "#figure.subplot.hspace: 0.2    # the amount of height reserved for space between subplots,\n",
      "                               # expressed as a fraction of the average axis height\n",
      "\n",
      "## Figure layout\n",
      "#figure.autolayout: False  # When True, automatically adjust subplot\n",
      "                           # parameters to make the plot fit the figure\n",
      "                           # using `tight_layout`\n",
      "#figure.constrained_layout.use: False  # When True, automatically make plot\n",
      "                                       # elements fit on the figure. (Not\n",
      "                                       # compatible with `autolayout`, above).\n",
      "#figure.constrained_layout.h_pad:  0.04167  # Padding around axes objects. Float representing\n",
      "#figure.constrained_layout.w_pad:  0.04167  # inches. Default is 3/72 inches (3 points)\n",
      "#figure.constrained_layout.hspace: 0.02     # Space between subplot groups. Float representing\n",
      "#figure.constrained_layout.wspace: 0.02     # a fraction of the subplot widths being separated.\n",
      "\n",
      "\n",
      "## ***************************************************************************\n",
      "## * IMAGES                                                                  *\n",
      "## ***************************************************************************\n",
      "#image.aspect: equal                # {equal, auto} or a number\n",
      "#image.interpolation:  antialiased  # see help(imshow) for options\n",
      "#image.cmap:   viridis              # A colormap name, gray etc...\n",
      "#image.lut:    256                  # the size of the colormap lookup table\n",
      "#image.origin: upper                # {lower, upper}\n",
      "#image.resample:  True\n",
      "#image.composite_image: True  # When True, all the images on a set of axes are\n",
      "                              # combined into a single composite image before\n",
      "                              # saving a figure as a vector graphics file,\n",
      "                              # such as a PDF.\n",
      "\n",
      "\n",
      "## ***************************************************************************\n",
      "## * CONTOUR PLOTS                                                           *\n",
      "## ***************************************************************************\n",
      "#contour.negative_linestyle: dashed  # string or on-off ink sequence\n",
      "#contour.corner_mask:        True    # {True, False, legacy}\n",
      "#contour.linewidth:          None    # {float, None} Size of the contour line\n",
      "                                     # widths. If set to None, it falls back to\n",
      "                                     # `line.linewidth`.\n",
      "\n",
      "\n",
      "## ***************************************************************************\n",
      "## * ERRORBAR PLOTS                                                          *\n",
      "## ***************************************************************************\n",
      "#errorbar.capsize: 0  # length of end cap on error bars in pixels\n",
      "\n",
      "\n",
      "## ***************************************************************************\n",
      "## * HISTOGRAM PLOTS                                                         *\n",
      "## ***************************************************************************\n",
      "#hist.bins: 10  # The default number of histogram bins or 'auto'.\n",
      "\n",
      "\n",
      "## ***************************************************************************\n",
      "## * SCATTER PLOTS                                                           *\n",
      "## ***************************************************************************\n",
      "#scatter.marker: o         # The default marker type for scatter plots.\n",
      "#scatter.edgecolors: face  # The default edge colors for scatter plots.\n",
      "\n",
      "\n",
      "## ***************************************************************************\n",
      "## * AGG RENDERING                                                           *\n",
      "## ***************************************************************************\n",
      "## Warning: experimental, 2008/10/10\n",
      "#agg.path.chunksize: 0  # 0 to disable; values in the range\n",
      "                        # 10000 to 100000 can improve speed slightly\n",
      "                        # and prevent an Agg rendering failure\n",
      "                        # when plotting very large data sets,\n",
      "                        # especially if they are very gappy.\n",
      "                        # It may cause minor artifacts, though.\n",
      "                        # A value of 20000 is probably a good\n",
      "                        # starting point.\n",
      "\n",
      "\n",
      "## ***************************************************************************\n",
      "## * PATHS                                                                   *\n",
      "## ***************************************************************************\n",
      "#path.simplify: True  # When True, simplify paths by removing \"invisible\"\n",
      "                      # points to reduce file size and increase rendering\n",
      "                      # speed\n",
      "#path.simplify_threshold: 0.111111111111  # The threshold of similarity below\n",
      "                                          # which vertices will be removed in\n",
      "                                          # the simplification process.\n",
      "#path.snap: True  # When True, rectilinear axis-aligned paths will be snapped\n",
      "                  # to the nearest pixel when certain criteria are met.\n",
      "                  # When False, paths will never be snapped.\n",
      "#path.sketch: None  # May be None, or a 3-tuple of the form:\n",
      "                    # (scale, length, randomness).\n",
      "                    #     - *scale* is the amplitude of the wiggle\n",
      "                    #         perpendicular to the line (in pixels).\n",
      "                    #     - *length* is the length of the wiggle along the\n",
      "                    #         line (in pixels).\n",
      "                    #     - *randomness* is the factor by which the length is\n",
      "                    #         randomly scaled.\n",
      "#path.effects:\n",
      "\n",
      "\n",
      "## ***************************************************************************\n",
      "## * SAVING FIGURES                                                          *\n",
      "## ***************************************************************************\n",
      "## The default savefig parameters can be different from the display parameters\n",
      "## e.g., you may want a higher resolution, or to make the figure\n",
      "## background white\n",
      "#savefig.dpi:       figure      # figure dots per inch or 'figure'\n",
      "#savefig.facecolor: auto        # figure face color when saving\n",
      "#savefig.edgecolor: auto        # figure edge color when saving\n",
      "#savefig.format:    png         # {png, ps, pdf, svg}\n",
      "#savefig.bbox:      standard    # {tight, standard}\n",
      "                                # 'tight' is incompatible with pipe-based animation\n",
      "                                # backends (e.g. 'ffmpeg') but will work with those\n",
      "                                # based on temporary files (e.g. 'ffmpeg_file')\n",
      "#savefig.pad_inches:   0.1      # Padding to be used when bbox is set to 'tight'\n",
      "#savefig.directory:    ~        # default directory in savefig dialog box,\n",
      "                                # leave empty to always use current working directory\n",
      "#savefig.transparent: False     # setting that controls whether figures are saved with a\n",
      "                                # transparent background by default\n",
      "#savefig.orientation: portrait  # Orientation of saved figure\n",
      "\n",
      "### tk backend params\n",
      "#tk.window_focus:   False  # Maintain shell focus for TkAgg\n",
      "\n",
      "### ps backend params\n",
      "#ps.papersize:      letter  # {auto, letter, legal, ledger, A0-A10, B0-B10}\n",
      "#ps.useafm:         False   # use of AFM fonts, results in small files\n",
      "#ps.usedistiller:   False   # {ghostscript, xpdf, None}\n",
      "                            # Experimental: may produce smaller files.\n",
      "                            # xpdf intended for production of publication quality files,\n",
      "                            # but requires ghostscript, xpdf and ps2eps\n",
      "#ps.distiller.res:  6000    # dpi\n",
      "#ps.fonttype:       3       # Output Type 3 (Type3) or Type 42 (TrueType)\n",
      "\n",
      "### PDF backend params\n",
      "#pdf.compression:    6  # integer from 0 to 9\n",
      "                        # 0 disables compression (good for debugging)\n",
      "#pdf.fonttype:       3  # Output Type 3 (Type3) or Type 42 (TrueType)\n",
      "#pdf.use14corefonts : False\n",
      "#pdf.inheritcolor:   False\n",
      "\n",
      "### SVG backend params\n",
      "#svg.image_inline: True  # Write raster image data directly into the SVG file\n",
      "#svg.fonttype: path      # How to handle SVG fonts:\n",
      "                         #     path: Embed characters as paths -- supported\n",
      "                         #           by most SVG renderers\n",
      "                         #     None: Assume fonts are installed on the\n",
      "                         #           machine where the SVG will be viewed.\n",
      "#svg.hashsalt: None      # If not None, use this string as hash salt instead of uuid4\n",
      "\n",
      "### pgf parameter\n",
      "## See https://matplotlib.org/tutorials/text/pgf.html for more information.\n",
      "#pgf.rcfonts: True\n",
      "#pgf.preamble:  # See text.latex.preamble for documentation\n",
      "#pgf.texsystem: xelatex\n",
      "\n",
      "### docstring params\n",
      "#docstring.hardcopy: False  # set this when you want to generate hardcopy docstring\n",
      "\n",
      "\n",
      "## ***************************************************************************\n",
      "## * INTERACTIVE KEYMAPS                                                     *\n",
      "## ***************************************************************************\n",
      "## Event keys to interact with figures/plots via keyboard.\n",
      "## See https://matplotlib.org/users/navigation_toolbar.html for more details on\n",
      "## interactive navigation.  Customize these settings according to your needs.\n",
      "## Leave the field(s) empty if you don't need a key-map. (i.e., fullscreen : '')\n",
      "#keymap.fullscreen: f, ctrl+f   # toggling\n",
      "#keymap.home: h, r, home        # home or reset mnemonic\n",
      "#keymap.back: left, c, backspace, MouseButton.BACK  # forward / backward keys\n",
      "#keymap.forward: right, v, MouseButton.FORWARD      # for quick navigation\n",
      "#keymap.pan: p                  # pan mnemonic\n",
      "#keymap.zoom: o                 # zoom mnemonic\n",
      "#keymap.save: s, ctrl+s         # saving current figure\n",
      "#keymap.help: f1                # display help about active tools\n",
      "#keymap.quit: ctrl+w, cmd+w, q  # close the current figure\n",
      "#keymap.quit_all:               # close all figures\n",
      "#keymap.grid: g                 # switching on/off major grids in current axes\n",
      "#keymap.grid_minor: G           # switching on/off minor grids in current axes\n",
      "#keymap.yscale: l               # toggle scaling of y-axes ('log'/'linear')\n",
      "#keymap.xscale: k, L            # toggle scaling of x-axes ('log'/'linear')\n",
      "#keymap.copy: ctrl+c, cmd+c     # Copy figure to clipboard\n",
      "\n",
      "\n",
      "## ***************************************************************************\n",
      "## * ANIMATION                                                               *\n",
      "## ***************************************************************************\n",
      "#animation.html: none  # How to display the animation as HTML in\n",
      "                       # the IPython notebook:\n",
      "                       #     - 'html5' uses HTML5 video tag\n",
      "                       #     - 'jshtml' creates a JavaScript animation\n",
      "#animation.writer:  ffmpeg        # MovieWriter 'backend' to use\n",
      "#animation.codec:   h264          # Codec to use for writing movie\n",
      "#animation.bitrate: -1            # Controls size/quality trade-off for movie.\n",
      "                                  # -1 implies let utility auto-determine\n",
      "#animation.frame_format: png      # Controls frame format used by temp files\n",
      "#animation.ffmpeg_path:  ffmpeg   # Path to ffmpeg binary. Without full path\n",
      "                                  # $PATH is searched\n",
      "#animation.ffmpeg_args:           # Additional arguments to pass to ffmpeg\n",
      "#animation.convert_path: convert  # Path to ImageMagick's convert binary.\n",
      "                                  # On Windows use the full path since convert\n",
      "                                  # is also the name of a system tool.\n",
      "#animation.convert_args:          # Additional arguments to pass to convert\n",
      "#animation.embed_limit:  20.0     # Limit, in MB, of size of base64 encoded\n",
      "                                  # animation in HTML (i.e. IPython notebook)\n",
      "font.family : IPAexGothic\n"
     ]
    }
   ],
   "metadata": {}
  },
  {
   "cell_type": "code",
   "execution_count": null,
   "source": [],
   "outputs": [],
   "metadata": {}
  }
 ],
 "metadata": {
  "orig_nbformat": 4,
  "language_info": {
   "name": "python",
   "version": "3.8.8",
   "mimetype": "text/x-python",
   "codemirror_mode": {
    "name": "ipython",
    "version": 3
   },
   "pygments_lexer": "ipython3",
   "nbconvert_exporter": "python",
   "file_extension": ".py"
  },
  "kernelspec": {
   "name": "python3",
   "display_name": "Python 3.8.8 64-bit ('base': conda)"
  },
  "interpreter": {
   "hash": "98b0a9b7b4eaaa670588a142fd0a9b87eaafe866f1db4228be72b4211d12040f"
  }
 },
 "nbformat": 4,
 "nbformat_minor": 2
}